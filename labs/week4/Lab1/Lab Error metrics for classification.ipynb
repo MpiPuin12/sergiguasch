{
 "cells": [
  {
   "cell_type": "markdown",
   "id": "d4c7c059",
   "metadata": {},
   "source": [
    "# Create a Python function named get_model_metrics, that given a model, the train, and the test sets, returns a pandas dataframe with the following columns: (Error_metric, Train, Test). The error metrics reported must be:"
   ]
  },
  {
   "cell_type": "markdown",
   "id": "6b234d10",
   "metadata": {},
   "source": [
    "- Accuracy\n",
    "- Precision\n",
    "- Recall\n",
    "- F1-score\n",
    "- Kappa\n",
    "- AUC"
   ]
  },
  {
   "cell_type": "code",
   "execution_count": null,
   "id": "bb4005ae",
   "metadata": {},
   "outputs": [],
   "source": []
  },
  {
   "cell_type": "markdown",
   "id": "2cf26260",
   "metadata": {},
   "source": [
    "# Use sklearn classification_report to create another Python function, that given y_train, y_train_pred, y_test, y_test_pred, and a list of labels of the classes names,get a similar report for the train and the test sets."
   ]
  },
  {
   "cell_type": "code",
   "execution_count": null,
   "id": "a467b5fe",
   "metadata": {},
   "outputs": [],
   "source": []
  },
  {
   "cell_type": "markdown",
   "id": "2ed49069",
   "metadata": {},
   "source": [
    "# Create a Python function named plot_model_metrics, that given a model, the train, and the test sets, will plot:"
   ]
  },
  {
   "cell_type": "markdown",
   "id": "afe10662",
   "metadata": {},
   "source": [
    "- Confusion matrix\n",
    "- ROC curve"
   ]
  },
  {
   "cell_type": "code",
   "execution_count": null,
   "id": "5bd1ed30",
   "metadata": {},
   "outputs": [],
   "source": []
  }
 ],
 "metadata": {
  "kernelspec": {
   "display_name": "Python 3 (ipykernel)",
   "language": "python",
   "name": "python3"
  },
  "language_info": {
   "codemirror_mode": {
    "name": "ipython",
    "version": 3
   },
   "file_extension": ".py",
   "mimetype": "text/x-python",
   "name": "python",
   "nbconvert_exporter": "python",
   "pygments_lexer": "ipython3",
   "version": "3.9.7"
  },
  "toc": {
   "base_numbering": 1,
   "nav_menu": {},
   "number_sections": true,
   "sideBar": true,
   "skip_h1_title": false,
   "title_cell": "Table of Contents",
   "title_sidebar": "Contents",
   "toc_cell": false,
   "toc_position": {},
   "toc_section_display": true,
   "toc_window_display": false
  }
 },
 "nbformat": 4,
 "nbformat_minor": 5
}
