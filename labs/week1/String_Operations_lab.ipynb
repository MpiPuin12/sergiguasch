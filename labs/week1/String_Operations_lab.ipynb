{
 "cells": [
  {
   "cell_type": "markdown",
   "metadata": {},
   "source": [
    "# string operations lab \n",
    "- download a local copy of this notebook file by right clicking on the Raw button\n",
    "- work through the tasks\n",
    "- annotate as much as you can and use the resources in the Notion\n",
    "- remember to google, ask your classmates or ask the TA if you get stuck.\n",
    "- if you cannot finish one task, dont worry - move on to the next\n",
    "- push your completed notebook to your lab github repo and submit the url via the student portal to let us know you did it and so we can have a look at your work\n",
    "- Happy learning!"
   ]
  },
  {
   "cell_type": "markdown",
   "metadata": {},
   "source": [
    "# Challenge 1 - Combining Strings\n",
    "\n",
    "Combining strings is an important skill to acquire. There are multiple ways of combining strings in Python, as well as combining strings with variables. We will explore this in the first challenge. In the cell below, combine the strings in the list and add spaces between the strings (do not add a space after the last string). Insert a period after the last string."
   ]
  },
  {
   "cell_type": "code",
   "execution_count": 21,
   "metadata": {},
   "outputs": [
    {
     "name": "stdout",
     "output_type": "stream",
     "text": [
      "Durante un tiempo no estuvo segura de si su marido era su marido\n"
     ]
    }
   ],
   "source": [
    "str_list = ['Durante', 'un', 'tiempo', 'no', 'estuvo', 'segura', 'de', 'si', 'su', 'marido', 'era', 'su', 'marido']\n",
    "# Your code here:\n",
    "\n",
    "sentence = \"\"\n",
    "for i in str_list:\n",
    "    sentence += str(i) + \" \"\n",
    "sentence = sentence[:-1]\n",
    "print(sentence)"
   ]
  },
  {
   "cell_type": "markdown",
   "metadata": {},
   "source": [
    "In the cell below, use the list of strings to create a grocery list. Start the list with the string `Grocery list: ` and include a comma and a space between each item except for the last one. Include a period at the end. Only include foods in the list that start with the letter 'b' and ensure all foods are lower case."
   ]
  },
  {
   "cell_type": "code",
   "execution_count": 31,
   "metadata": {},
   "outputs": [
    {
     "name": "stdout",
     "output_type": "stream",
     "text": [
      "bananas, bread, brownie mix, broccoli .\n"
     ]
    }
   ],
   "source": [
    "food_list = ['Bananas', 'Chocolate', 'bread', 'diapers', 'Ice Cream', 'Brownie Mix', 'broccoli']\n",
    "# Your code here:\n",
    "\n",
    "cols=[]\n",
    "for i in range(len(food_list)):\n",
    "    cols.append(food_list[i].lower())\n",
    "food_list = cols\n",
    "result = [i for i in food_list if i.startswith('b') ]\n",
    "startb = \"\"\n",
    "for i in result:\n",
    "    startb += str(i) + \", \"\n",
    "startb = startb[:-2]\n",
    "print(startb,'.')"
   ]
  },
  {
   "cell_type": "markdown",
   "metadata": {},
   "source": [
    "In the cell below, compute the area of a circle using its radius and insert the radius and the area between `string1` and `string2`. Make sure to include spaces between the variable and the strings. \n",
    "\n",
    "Note: You can use the techniques we have learned so far or use f-strings. F-strings allow us to embed code inside strings. You can read more about f-strings [here](https://www.python.org/dev/peps/pep-0498/)."
   ]
  },
  {
   "cell_type": "code",
   "execution_count": 1,
   "metadata": {},
   "outputs": [
    {
     "name": "stdout",
     "output_type": "stream",
     "text": [
      "The area of the circle with radius: 4.5 is: 28.27\n"
     ]
    }
   ],
   "source": [
    "import math\n",
    "\n",
    "string1 = \"The area of the circle with radius:\"\n",
    "string2  = \"is:\"\n",
    "radius = 4.5\n",
    "pi = math.pi\n",
    "\n",
    "# Your code here:\n",
    "print(string1, radius, string2, round(2*pi*radius,2))"
   ]
  },
  {
   "cell_type": "markdown",
   "metadata": {},
   "source": [
    "# Challenge 2 - Splitting Strings\n",
    "\n",
    "We have first looked at combining strings into one long string. There are times where we need to do the opposite and split the string into smaller components for further analysis. \n",
    "\n",
    "In the cell below, split the string into a list of strings using the space delimiter. Count the frequency of each word in the string in a dictionary. Strip the periods, line breaks and commas from the text. Make sure to remove empty strings from your dictionary."
   ]
  },
  {
   "cell_type": "code",
   "execution_count": 128,
   "metadata": {},
   "outputs": [
    {
     "name": "stdout",
     "output_type": "stream",
     "text": [
      "Frequency of Some is : 2\n",
      "Frequency of say is : 3\n",
      "Frequency of the is : 1\n",
      "Frequency of world is : 1\n",
      "Frequency of will is : 1\n",
      "Frequency of end is : 1\n",
      "Frequency of in is : 2\n",
      "Frequency of fire is : 2\n",
      "Frequency of ice is : 2\n",
      "Frequency of From is : 1\n",
      "Frequency of what is : 1\n",
      "Frequency of I’ve is : 1\n",
      "Frequency of tasted is : 1\n",
      "Frequency of of is : 2\n",
      "Frequency of desire is : 1\n",
      "Frequency of I is : 3\n",
      "Frequency of hold is : 1\n",
      "Frequency of with is : 1\n",
      "Frequency of those is : 1\n",
      "Frequency of who is : 1\n",
      "Frequency of favor is : 1\n",
      "Frequency of But is : 1\n",
      "Frequency of if is : 1\n",
      "Frequency of it is : 1\n",
      "Frequency of had is : 1\n",
      "Frequency of to is : 1\n",
      "Frequency of perish is : 1\n",
      "Frequency of twice is : 1\n",
      "Frequency of think is : 1\n",
      "Frequency of know is : 1\n",
      "Frequency of enough is : 1\n",
      "Frequency of hate is : 1\n",
      "Frequency of To is : 1\n",
      "Frequency of that is : 1\n",
      "Frequency of for is : 1\n",
      "Frequency of destruction is : 1\n",
      "Frequency of Is is : 1\n",
      "Frequency of also is : 1\n",
      "Frequency of great is : 1\n",
      "Frequency of And is : 1\n",
      "Frequency of would is : 1\n",
      "Frequency of suffice is : 1\n"
     ]
    }
   ],
   "source": [
    "poem = \"\"\"Some say the world will end in fire,\n",
    "Some say in ice.\n",
    "From what I’ve tasted of desire\n",
    "I hold with those who favor fire.\n",
    "But if it had to perish twice,\n",
    "I think I know enough of hate\n",
    "To say that for destruction ice\n",
    "Is also great\n",
    "And would suffice.\"\"\"\n",
    "\n",
    "# Your code here:\n",
    "\n",
    "comma = poem.replace(\",\", \"\")\n",
    "point = comma.replace(\".\", \"\")\n",
    "word = point.replace(\"\\n\", \" \")\n",
    "\n",
    "str = word.split() \n",
    "\n",
    "dict=[]\n",
    "for i in str:             \n",
    "        if i not in dict:  \n",
    "            dict.append(i) \n",
    "            \n",
    "for i in range(0, len(dict)):\n",
    "        print('Frequency of', dict[i], 'is :', str.count(dict[i])) "
   ]
  },
  {
   "cell_type": "markdown",
   "metadata": {},
   "source": [
    "In the cell below, find all the words that appear in the text and do not appear in the blacklist. You must parse the string but can choose any data structure you wish for the words that do not appear in the blacklist. Remove all non letter characters and convert all words to lower case."
   ]
  },
  {
   "cell_type": "code",
   "execution_count": 108,
   "metadata": {},
   "outputs": [
    {
     "name": "stdout",
     "output_type": "stream",
     "text": [
      " These are the words in common betwwen the blacklist and poem  ['and', 'an', 'the', 'in', 'it'] \n",
      "\n",
      " These are the words that appear in the text and do not appear in the blacklist  ['', 'I', 'was', 'angry', 'with', 'my', 'friend;', 'told', 'wrath,', 'wrath', 'did', 'end.', 'foe:', 'foe', 'not,', 'grow.', 'And', 'waterd', 'fears,', 'Night', '&', 'morning', 'tears:', 'sunned', 'smiles,', 'soft', 'deceitful', 'wiles.', 'grew', 'both', 'day', 'night.', 'night', 'Till', 'bore', 'apple', 'bright.', 'beheld', 'he', 'shine,', 'knew', 'that', 'mine.', 'into', 'garden', 'stole,', 'When', 'had', 'veild', 'pole;', 'In', 'glad', 'see;', 'My', 'outstretched', 'beneath', 'tree.'] \n",
      "\n",
      "These are the words without non letter characters and in lower case        i    was    angry    with    my    friend     told    wrath     wrath    did    end     foe     foe    not     grow     and    waterd    fears     night         morning    tears     sunned    smiles     soft    deceitful    wiles     grew    both    day    night     night    till    bore    apple    bright     beheld    he    shine     knew    that    mine     into    garden    stole     when    had    veild    pole     in    glad    see     my    outstretched    beneath    tree   \n"
     ]
    }
   ],
   "source": [
    "blacklist = ['and', 'as', 'an', 'a', 'the', 'in', 'it']\n",
    "\n",
    "poem = \"\"\"I was angry with my friend; \n",
    "I told my wrath, my wrath did end.\n",
    "I was angry with my foe: \n",
    "I told it not, my wrath did grow. \n",
    "\n",
    "And I waterd it in fears,\n",
    "Night & morning with my tears: \n",
    "And I sunned it with smiles,\n",
    "And with soft deceitful wiles. \n",
    "\n",
    "And it grew both day and night. \n",
    "Till it bore an apple bright. \n",
    "And my foe beheld it shine,\n",
    "And he knew that it was mine. \n",
    "\n",
    "And into my garden stole, \n",
    "When the night had veild the pole; \n",
    "In the morning glad I see; \n",
    "My foe outstretched beneath the tree.\"\"\"\n",
    "\n",
    "# Your code here:\n",
    "\n",
    "\n",
    "import re\n",
    "\n",
    "item=(re.split(r'\\s',poem))\n",
    "\n",
    "x = set(blacklist)&set(item) \n",
    "\n",
    "common = sorted(x, key = lambda k : blacklist.index(k))\n",
    "\n",
    "print(' These are the words in common betwwen the blacklist and poem ', common, '\\n') # Just to check\n",
    "\n",
    "\n",
    "x = set(item) - set(blacklist) \n",
    "\n",
    "difference = sorted(x, key = lambda k : poem.index(k))\n",
    "\n",
    "print(' These are the words that appear in the text and do not appear in the blacklist ', difference, '\\n')\n",
    "\n",
    "regex = re.compile('[^a-zA-Z]')\n",
    "non_letter=regex.sub(' ', str(difference))\n",
    "print('These are the words without non letter characters and in lower case ', non_letter.lower())"
   ]
  },
  {
   "cell_type": "markdown",
   "metadata": {},
   "source": [
    "# Bonus 1 - Regular Expressions\n",
    "\n",
    "Sometimes, we would like to perform more complex manipulations of our string. This is where regular expressions come in handy. \n",
    "\n",
    "Have you used regeex before? If not, to get the basics of regular expressions you can try this [hands-on tutorial](https://regexone.com/). Depending how the tutorial goes, have a go with these bonus challenges!\n",
    "\n",
    "In the cell below, return all characters that are upper case from the string specified below."
   ]
  },
  {
   "cell_type": "code",
   "execution_count": 2,
   "metadata": {},
   "outputs": [],
   "source": [
    "import re"
   ]
  },
  {
   "cell_type": "code",
   "execution_count": 3,
   "metadata": {},
   "outputs": [
    {
     "data": {
      "text/plain": [
       "'TP'"
      ]
     },
     "execution_count": 3,
     "metadata": {},
     "output_type": "execute_result"
    }
   ],
   "source": [
    "poem = \"\"\"The apparition of these faces in the crowd;\n",
    "Petals on a wet, black bough.\"\"\"\n",
    "\n",
    "# Your code here:\n",
    "re.sub('[^A-Z]', '', poem)"
   ]
  },
  {
   "cell_type": "markdown",
   "metadata": {},
   "source": [
    "In the cell below, filter the list provided and return all elements of the list containing a number. To filter the list, use the `re.search` function. Check if the function does not return `None`. You can read more about the `re.search` function [here](https://docs.python.org/3/library/re.html)."
   ]
  },
  {
   "cell_type": "code",
   "execution_count": 78,
   "metadata": {},
   "outputs": [
    {
     "name": "stdout",
     "output_type": "stream",
     "text": [
      "list is not empty  ['123abc', 'abc123', 'JohnSmith1', 'ABBY4']\n"
     ]
    }
   ],
   "source": [
    "data = ['123abc', 'abc123', 'JohnSmith1', 'ABBY4', 'JANE']\n",
    "\n",
    "#data2 = ['abc', 'abc', 'JohnSmith', 'ABBY', 'JANE']\n",
    "\n",
    "# Your code here:\n",
    "\n",
    "item = [i for i in data if re.search(r'\\d+', i) ]\n",
    "    \n",
    "if bool(item):\n",
    "    print(\"list is not empty \",item)\n",
    "else:\n",
    "    print(\"list is empty \", item)"
   ]
  },
  {
   "cell_type": "markdown",
   "metadata": {},
   "source": [
    "# Bonus 2 - Regular Expressions II\n",
    "\n",
    "In the cell below, filter the list provided to keep only strings containing at least one digit and at least one lower case letter. As in the previous question, use the `re.search` function and check that the result is not `None`.\n",
    "\n",
    "To read more about regular expressions, check out [this link](https://developers.google.com/edu/python/regular-expressions)."
   ]
  },
  {
   "cell_type": "code",
   "execution_count": 79,
   "metadata": {},
   "outputs": [
    {
     "name": "stdout",
     "output_type": "stream",
     "text": [
      "list is not empty  ['123abc', 'abc123', 'JohnSmith1']\n"
     ]
    }
   ],
   "source": [
    "data = ['123abc', 'abc123', 'JohnSmith1', 'ABBY4', 'JANE']\n",
    "\n",
    "# Your code here:\n",
    "\n",
    "item=[i for i in data if re.search(r'[a-z]\\d+', i) or re.search(r'\\d+[a-z]', i)]\n",
    "\n",
    "if bool(item):\n",
    "    print(\"list is not empty \",item)\n",
    "else:\n",
    "    print(\"list is empty \", item)"
   ]
  }
 ],
 "metadata": {
  "file_extension": ".py",
  "kernelspec": {
   "display_name": "Python 3 (ipykernel)",
   "language": "python",
   "name": "python3"
  },
  "language_info": {
   "codemirror_mode": {
    "name": "ipython",
    "version": 3
   },
   "file_extension": ".py",
   "mimetype": "text/x-python",
   "name": "python",
   "nbconvert_exporter": "python",
   "pygments_lexer": "ipython3",
   "version": "3.9.7"
  },
  "mimetype": "text/x-python",
  "name": "python",
  "npconvert_exporter": "python",
  "pygments_lexer": "ipython3",
  "toc": {
   "base_numbering": 1,
   "nav_menu": {},
   "number_sections": true,
   "sideBar": true,
   "skip_h1_title": false,
   "title_cell": "Table of Contents",
   "title_sidebar": "Contents",
   "toc_cell": false,
   "toc_position": {},
   "toc_section_display": true,
   "toc_window_display": false
  },
  "version": 3
 },
 "nbformat": 4,
 "nbformat_minor": 2
}
