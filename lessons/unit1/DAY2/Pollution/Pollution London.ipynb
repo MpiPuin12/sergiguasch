{
 "cells": [
  {
   "cell_type": "code",
   "execution_count": 1,
   "id": "a8e468ee",
   "metadata": {},
   "outputs": [],
   "source": [
    "import numpy as np \n",
    "import pandas as pd "
   ]
  },
  {
   "cell_type": "code",
   "execution_count": 2,
   "id": "563db6f4",
   "metadata": {
    "scrolled": true
   },
   "outputs": [
    {
     "name": "stdout",
     "output_type": "stream",
     "text": [
      " Volume in drive C is OS\n",
      " Volume Serial Number is A4B9-8E3D\n",
      "\n",
      " Directory of C:\\Users\\Sergi\\OneDrive\\Documents\\GitHub\\sergiguasch\\lessons\\unit1\\DAY2\\Pollution\n",
      "\n",
      "01/23/2022  01:39 PM    <DIR>          .\n",
      "01/23/2022  01:39 PM    <DIR>          ..\n",
      "01/20/2022  09:57 AM    <DIR>          .ipynb_checkpoints\n",
      "01/23/2022  01:39 PM            92,469 london_bloomsbury.csv\n",
      "01/23/2022  01:39 PM    <DIR>          old\n",
      "01/23/2022  01:39 PM            34,173 Pollution London.ipynb\n",
      "               2 File(s)        126,642 bytes\n",
      "               4 Dir(s)  336,500,301,824 bytes free\n"
     ]
    }
   ],
   "source": [
    "ls"
   ]
  },
  {
   "cell_type": "code",
   "execution_count": 3,
   "id": "c9718877",
   "metadata": {
    "scrolled": true
   },
   "outputs": [
    {
     "name": "stdout",
     "output_type": "stream",
     "text": [
      " Volume in drive C is OS\n",
      " Volume Serial Number is A4B9-8E3D\n",
      "\n",
      " Directory of C:\\Users\\Sergi\\OneDrive\\Documents\\GitHub\\sergiguasch\\lessons\\unit1\\DAY2\\Pollution\n",
      "\n",
      "01/23/2022  01:39 PM    <DIR>          .\n",
      "01/23/2022  01:39 PM    <DIR>          ..\n",
      "01/20/2022  09:57 AM    <DIR>          .ipynb_checkpoints\n",
      "01/23/2022  01:39 PM            92,469 london_bloomsbury.csv\n",
      "01/23/2022  01:39 PM    <DIR>          old\n",
      "01/23/2022  01:39 PM            34,173 Pollution London.ipynb\n",
      "               2 File(s)        126,642 bytes\n",
      "               4 Dir(s)  336,500,105,216 bytes free\n"
     ]
    }
   ],
   "source": [
    "ls"
   ]
  },
  {
   "cell_type": "code",
   "execution_count": 4,
   "id": "bab08b13",
   "metadata": {},
   "outputs": [],
   "source": [
    "data=pd.read_csv('london_bloomsbury.csv')"
   ]
  },
  {
   "cell_type": "code",
   "execution_count": 5,
   "id": "4c16fcd7",
   "metadata": {
    "scrolled": true
   },
   "outputs": [
    {
     "data": {
      "text/html": [
       "<div>\n",
       "<style scoped>\n",
       "    .dataframe tbody tr th:only-of-type {\n",
       "        vertical-align: middle;\n",
       "    }\n",
       "\n",
       "    .dataframe tbody tr th {\n",
       "        vertical-align: top;\n",
       "    }\n",
       "\n",
       "    .dataframe thead th {\n",
       "        text-align: right;\n",
       "    }\n",
       "</style>\n",
       "<table border=\"1\" class=\"dataframe\">\n",
       "  <thead>\n",
       "    <tr style=\"text-align: right;\">\n",
       "      <th></th>\n",
       "      <th>date</th>\n",
       "      <th>pm25</th>\n",
       "      <th>pm10</th>\n",
       "      <th>o3</th>\n",
       "      <th>no2</th>\n",
       "      <th>so2</th>\n",
       "      <th>co</th>\n",
       "    </tr>\n",
       "  </thead>\n",
       "  <tbody>\n",
       "    <tr>\n",
       "      <th>0</th>\n",
       "      <td>2022/1/3</td>\n",
       "      <td>44</td>\n",
       "      <td>13</td>\n",
       "      <td>20</td>\n",
       "      <td>20</td>\n",
       "      <td>2</td>\n",
       "      <td>5</td>\n",
       "    </tr>\n",
       "    <tr>\n",
       "      <th>1</th>\n",
       "      <td>2022/1/4</td>\n",
       "      <td>35</td>\n",
       "      <td>15</td>\n",
       "      <td>12</td>\n",
       "      <td>28</td>\n",
       "      <td></td>\n",
       "      <td>11</td>\n",
       "    </tr>\n",
       "    <tr>\n",
       "      <th>2</th>\n",
       "      <td>2022/1/5</td>\n",
       "      <td>43</td>\n",
       "      <td>18</td>\n",
       "      <td>26</td>\n",
       "      <td>20</td>\n",
       "      <td></td>\n",
       "      <td>9</td>\n",
       "    </tr>\n",
       "    <tr>\n",
       "      <th>3</th>\n",
       "      <td>2022/1/6</td>\n",
       "      <td>51</td>\n",
       "      <td>12</td>\n",
       "      <td>26</td>\n",
       "      <td>16</td>\n",
       "      <td></td>\n",
       "      <td>9</td>\n",
       "    </tr>\n",
       "    <tr>\n",
       "      <th>4</th>\n",
       "      <td>2022/1/7</td>\n",
       "      <td>38</td>\n",
       "      <td>13</td>\n",
       "      <td>23</td>\n",
       "      <td>15</td>\n",
       "      <td>1</td>\n",
       "      <td>6</td>\n",
       "    </tr>\n",
       "    <tr>\n",
       "      <th>...</th>\n",
       "      <td>...</td>\n",
       "      <td>...</td>\n",
       "      <td>...</td>\n",
       "      <td>...</td>\n",
       "      <td>...</td>\n",
       "      <td>...</td>\n",
       "      <td>...</td>\n",
       "    </tr>\n",
       "    <tr>\n",
       "      <th>2929</th>\n",
       "      <td>2014/3/7</td>\n",
       "      <td></td>\n",
       "      <td></td>\n",
       "      <td>24</td>\n",
       "      <td>21</td>\n",
       "      <td>1</td>\n",
       "      <td></td>\n",
       "    </tr>\n",
       "    <tr>\n",
       "      <th>2930</th>\n",
       "      <td>2014/3/8</td>\n",
       "      <td></td>\n",
       "      <td></td>\n",
       "      <td>28</td>\n",
       "      <td>25</td>\n",
       "      <td>1</td>\n",
       "      <td></td>\n",
       "    </tr>\n",
       "    <tr>\n",
       "      <th>2931</th>\n",
       "      <td>2020/9/26</td>\n",
       "      <td></td>\n",
       "      <td></td>\n",
       "      <td></td>\n",
       "      <td></td>\n",
       "      <td></td>\n",
       "      <td>1</td>\n",
       "    </tr>\n",
       "    <tr>\n",
       "      <th>2932</th>\n",
       "      <td>2020/9/27</td>\n",
       "      <td></td>\n",
       "      <td></td>\n",
       "      <td></td>\n",
       "      <td></td>\n",
       "      <td></td>\n",
       "      <td>4</td>\n",
       "    </tr>\n",
       "    <tr>\n",
       "      <th>2933</th>\n",
       "      <td>2020/9/28</td>\n",
       "      <td></td>\n",
       "      <td></td>\n",
       "      <td></td>\n",
       "      <td></td>\n",
       "      <td></td>\n",
       "      <td>2</td>\n",
       "    </tr>\n",
       "  </tbody>\n",
       "</table>\n",
       "<p>2934 rows × 7 columns</p>\n",
       "</div>"
      ],
      "text/plain": [
       "           date  pm25  pm10   o3  no2  so2   co\n",
       "0      2022/1/3    44    13   20   20    2    5\n",
       "1      2022/1/4    35    15   12   28        11\n",
       "2      2022/1/5    43    18   26   20         9\n",
       "3      2022/1/6    51    12   26   16         9\n",
       "4      2022/1/7    38    13   23   15    1    6\n",
       "...         ...   ...   ...  ...  ...  ...  ...\n",
       "2929   2014/3/7               24   21    1     \n",
       "2930   2014/3/8               28   25    1     \n",
       "2931  2020/9/26                               1\n",
       "2932  2020/9/27                               4\n",
       "2933  2020/9/28                               2\n",
       "\n",
       "[2934 rows x 7 columns]"
      ]
     },
     "execution_count": 5,
     "metadata": {},
     "output_type": "execute_result"
    }
   ],
   "source": [
    "data"
   ]
  },
  {
   "cell_type": "code",
   "execution_count": 6,
   "id": "9d5b7fc3",
   "metadata": {},
   "outputs": [
    {
     "data": {
      "text/plain": [
       "(2934, 7)"
      ]
     },
     "execution_count": 6,
     "metadata": {},
     "output_type": "execute_result"
    }
   ],
   "source": [
    "data.shape"
   ]
  },
  {
   "cell_type": "code",
   "execution_count": 7,
   "id": "3fd23797",
   "metadata": {},
   "outputs": [
    {
     "data": {
      "text/plain": [
       "Index(['date', ' pm25', ' pm10', ' o3', ' no2', ' so2', ' co'], dtype='object')"
      ]
     },
     "execution_count": 7,
     "metadata": {},
     "output_type": "execute_result"
    }
   ],
   "source": [
    "data.columns"
   ]
  },
  {
   "cell_type": "code",
   "execution_count": 8,
   "id": "e8879580",
   "metadata": {},
   "outputs": [
    {
     "data": {
      "text/plain": [
       "Index(['date', ' pm2.5', ' pm10', ' o3', ' no2', ' so2', ' co'], dtype='object')"
      ]
     },
     "execution_count": 8,
     "metadata": {},
     "output_type": "execute_result"
    }
   ],
   "source": [
    "data.columns=data.columns.str.replace(\"25\", \"2.5\")\n",
    "data.columns"
   ]
  },
  {
   "cell_type": "code",
   "execution_count": 9,
   "id": "ea34b00c",
   "metadata": {},
   "outputs": [
    {
     "data": {
      "text/plain": [
       "Index(['date', 'pm2.5', 'pm10', 'o3', 'no2', 'so2', 'co'], dtype='object')"
      ]
     },
     "execution_count": 9,
     "metadata": {},
     "output_type": "execute_result"
    }
   ],
   "source": [
    "data.columns=data.columns.str.replace(\" \", \"\")\n",
    "data.columns"
   ]
  },
  {
   "cell_type": "code",
   "execution_count": 10,
   "id": "7ec30713",
   "metadata": {},
   "outputs": [
    {
     "data": {
      "text/html": [
       "<div>\n",
       "<style scoped>\n",
       "    .dataframe tbody tr th:only-of-type {\n",
       "        vertical-align: middle;\n",
       "    }\n",
       "\n",
       "    .dataframe tbody tr th {\n",
       "        vertical-align: top;\n",
       "    }\n",
       "\n",
       "    .dataframe thead th {\n",
       "        text-align: right;\n",
       "    }\n",
       "</style>\n",
       "<table border=\"1\" class=\"dataframe\">\n",
       "  <thead>\n",
       "    <tr style=\"text-align: right;\">\n",
       "      <th></th>\n",
       "      <th>date</th>\n",
       "      <th>pm2.5</th>\n",
       "      <th>pm10</th>\n",
       "      <th>o3</th>\n",
       "      <th>no2</th>\n",
       "      <th>so2</th>\n",
       "      <th>co</th>\n",
       "    </tr>\n",
       "  </thead>\n",
       "  <tbody>\n",
       "    <tr>\n",
       "      <th>0</th>\n",
       "      <td>2022/1/3</td>\n",
       "      <td>44</td>\n",
       "      <td>13</td>\n",
       "      <td>20</td>\n",
       "      <td>20</td>\n",
       "      <td>2</td>\n",
       "      <td>5</td>\n",
       "    </tr>\n",
       "    <tr>\n",
       "      <th>1</th>\n",
       "      <td>2022/1/4</td>\n",
       "      <td>35</td>\n",
       "      <td>15</td>\n",
       "      <td>12</td>\n",
       "      <td>28</td>\n",
       "      <td></td>\n",
       "      <td>11</td>\n",
       "    </tr>\n",
       "    <tr>\n",
       "      <th>2</th>\n",
       "      <td>2022/1/5</td>\n",
       "      <td>43</td>\n",
       "      <td>18</td>\n",
       "      <td>26</td>\n",
       "      <td>20</td>\n",
       "      <td></td>\n",
       "      <td>9</td>\n",
       "    </tr>\n",
       "    <tr>\n",
       "      <th>3</th>\n",
       "      <td>2022/1/6</td>\n",
       "      <td>51</td>\n",
       "      <td>12</td>\n",
       "      <td>26</td>\n",
       "      <td>16</td>\n",
       "      <td></td>\n",
       "      <td>9</td>\n",
       "    </tr>\n",
       "    <tr>\n",
       "      <th>4</th>\n",
       "      <td>2022/1/7</td>\n",
       "      <td>38</td>\n",
       "      <td>13</td>\n",
       "      <td>23</td>\n",
       "      <td>15</td>\n",
       "      <td>1</td>\n",
       "      <td>6</td>\n",
       "    </tr>\n",
       "    <tr>\n",
       "      <th>...</th>\n",
       "      <td>...</td>\n",
       "      <td>...</td>\n",
       "      <td>...</td>\n",
       "      <td>...</td>\n",
       "      <td>...</td>\n",
       "      <td>...</td>\n",
       "      <td>...</td>\n",
       "    </tr>\n",
       "    <tr>\n",
       "      <th>2929</th>\n",
       "      <td>2014/3/7</td>\n",
       "      <td></td>\n",
       "      <td></td>\n",
       "      <td>24</td>\n",
       "      <td>21</td>\n",
       "      <td>1</td>\n",
       "      <td></td>\n",
       "    </tr>\n",
       "    <tr>\n",
       "      <th>2930</th>\n",
       "      <td>2014/3/8</td>\n",
       "      <td></td>\n",
       "      <td></td>\n",
       "      <td>28</td>\n",
       "      <td>25</td>\n",
       "      <td>1</td>\n",
       "      <td></td>\n",
       "    </tr>\n",
       "    <tr>\n",
       "      <th>2931</th>\n",
       "      <td>2020/9/26</td>\n",
       "      <td></td>\n",
       "      <td></td>\n",
       "      <td></td>\n",
       "      <td></td>\n",
       "      <td></td>\n",
       "      <td>1</td>\n",
       "    </tr>\n",
       "    <tr>\n",
       "      <th>2932</th>\n",
       "      <td>2020/9/27</td>\n",
       "      <td></td>\n",
       "      <td></td>\n",
       "      <td></td>\n",
       "      <td></td>\n",
       "      <td></td>\n",
       "      <td>4</td>\n",
       "    </tr>\n",
       "    <tr>\n",
       "      <th>2933</th>\n",
       "      <td>2020/9/28</td>\n",
       "      <td></td>\n",
       "      <td></td>\n",
       "      <td></td>\n",
       "      <td></td>\n",
       "      <td></td>\n",
       "      <td>2</td>\n",
       "    </tr>\n",
       "  </tbody>\n",
       "</table>\n",
       "<p>2934 rows × 7 columns</p>\n",
       "</div>"
      ],
      "text/plain": [
       "           date pm2.5 pm10   o3  no2 so2   co\n",
       "0      2022/1/3    44   13   20   20   2    5\n",
       "1      2022/1/4    35   15   12   28       11\n",
       "2      2022/1/5    43   18   26   20        9\n",
       "3      2022/1/6    51   12   26   16        9\n",
       "4      2022/1/7    38   13   23   15   1    6\n",
       "...         ...   ...  ...  ...  ...  ..  ...\n",
       "2929   2014/3/7              24   21   1     \n",
       "2930   2014/3/8              28   25   1     \n",
       "2931  2020/9/26                             1\n",
       "2932  2020/9/27                             4\n",
       "2933  2020/9/28                             2\n",
       "\n",
       "[2934 rows x 7 columns]"
      ]
     },
     "execution_count": 10,
     "metadata": {},
     "output_type": "execute_result"
    }
   ],
   "source": [
    "data"
   ]
  },
  {
   "cell_type": "code",
   "execution_count": 11,
   "id": "9b0838d9",
   "metadata": {
    "scrolled": false
   },
   "outputs": [
    {
     "name": "stdout",
     "output_type": "stream",
     "text": [
      "<class 'pandas.core.frame.DataFrame'>\n",
      "RangeIndex: 2934 entries, 0 to 2933\n",
      "Data columns (total 7 columns):\n",
      " #   Column  Non-Null Count  Dtype \n",
      "---  ------  --------------  ----- \n",
      " 0   date    2934 non-null   object\n",
      " 1   pm2.5   2934 non-null   object\n",
      " 2   pm10    2934 non-null   object\n",
      " 3   o3      2934 non-null   object\n",
      " 4   no2     2934 non-null   object\n",
      " 5   so2     2934 non-null   object\n",
      " 6   co      2934 non-null   object\n",
      "dtypes: object(7)\n",
      "memory usage: 160.6+ KB\n"
     ]
    }
   ],
   "source": [
    "data.info()"
   ]
  },
  {
   "cell_type": "code",
   "execution_count": 12,
   "id": "d7557893",
   "metadata": {},
   "outputs": [],
   "source": [
    "data['pm2.5']=pd.to_numeric(data['pm2.5'],errors='coerce')\n",
    "data['pm10']=pd.to_numeric(data['pm10'],errors='coerce')\n",
    "data['o3']=pd.to_numeric(data['o3'],errors='coerce')\n",
    "data['no2']=pd.to_numeric(data['no2'],errors='coerce')\n",
    "data['so2']=pd.to_numeric(data['so2'],errors='coerce')\n",
    "data['co']=pd.to_numeric(data['co'],errors='coerce')"
   ]
  },
  {
   "cell_type": "code",
   "execution_count": 13,
   "id": "b64c3125",
   "metadata": {},
   "outputs": [],
   "source": [
    "nulls_df=pd.DataFrame(round(data.isna().sum()/len(data),4)*100)"
   ]
  },
  {
   "cell_type": "code",
   "execution_count": 14,
   "id": "91a29654",
   "metadata": {},
   "outputs": [],
   "source": [
    "nulls_df=nulls_df.rename(columns={'index':'header',0:'prop_nulls'})"
   ]
  },
  {
   "cell_type": "code",
   "execution_count": 15,
   "id": "94eecb5f",
   "metadata": {
    "scrolled": true
   },
   "outputs": [
    {
     "data": {
      "text/html": [
       "<div>\n",
       "<style scoped>\n",
       "    .dataframe tbody tr th:only-of-type {\n",
       "        vertical-align: middle;\n",
       "    }\n",
       "\n",
       "    .dataframe tbody tr th {\n",
       "        vertical-align: top;\n",
       "    }\n",
       "\n",
       "    .dataframe thead th {\n",
       "        text-align: right;\n",
       "    }\n",
       "</style>\n",
       "<table border=\"1\" class=\"dataframe\">\n",
       "  <thead>\n",
       "    <tr style=\"text-align: right;\">\n",
       "      <th></th>\n",
       "      <th>prop_nulls</th>\n",
       "    </tr>\n",
       "  </thead>\n",
       "  <tbody>\n",
       "    <tr>\n",
       "      <th>date</th>\n",
       "      <td>0.00</td>\n",
       "    </tr>\n",
       "    <tr>\n",
       "      <th>pm2.5</th>\n",
       "      <td>2.42</td>\n",
       "    </tr>\n",
       "    <tr>\n",
       "      <th>pm10</th>\n",
       "      <td>5.01</td>\n",
       "    </tr>\n",
       "    <tr>\n",
       "      <th>o3</th>\n",
       "      <td>2.59</td>\n",
       "    </tr>\n",
       "    <tr>\n",
       "      <th>no2</th>\n",
       "      <td>1.87</td>\n",
       "    </tr>\n",
       "    <tr>\n",
       "      <th>so2</th>\n",
       "      <td>30.13</td>\n",
       "    </tr>\n",
       "    <tr>\n",
       "      <th>co</th>\n",
       "      <td>60.12</td>\n",
       "    </tr>\n",
       "  </tbody>\n",
       "</table>\n",
       "</div>"
      ],
      "text/plain": [
       "       prop_nulls\n",
       "date         0.00\n",
       "pm2.5        2.42\n",
       "pm10         5.01\n",
       "o3           2.59\n",
       "no2          1.87\n",
       "so2         30.13\n",
       "co          60.12"
      ]
     },
     "execution_count": 15,
     "metadata": {},
     "output_type": "execute_result"
    }
   ],
   "source": [
    "nulls_df"
   ]
  },
  {
   "cell_type": "code",
   "execution_count": 16,
   "id": "2b3c6349",
   "metadata": {},
   "outputs": [],
   "source": [
    "data=data.drop(['co'],axis=1)"
   ]
  },
  {
   "cell_type": "code",
   "execution_count": 17,
   "id": "2ee511c1",
   "metadata": {},
   "outputs": [
    {
     "data": {
      "text/html": [
       "<div>\n",
       "<style scoped>\n",
       "    .dataframe tbody tr th:only-of-type {\n",
       "        vertical-align: middle;\n",
       "    }\n",
       "\n",
       "    .dataframe tbody tr th {\n",
       "        vertical-align: top;\n",
       "    }\n",
       "\n",
       "    .dataframe thead th {\n",
       "        text-align: right;\n",
       "    }\n",
       "</style>\n",
       "<table border=\"1\" class=\"dataframe\">\n",
       "  <thead>\n",
       "    <tr style=\"text-align: right;\">\n",
       "      <th></th>\n",
       "      <th>prop_nulls</th>\n",
       "    </tr>\n",
       "  </thead>\n",
       "  <tbody>\n",
       "    <tr>\n",
       "      <th>date</th>\n",
       "      <td>0.00</td>\n",
       "    </tr>\n",
       "    <tr>\n",
       "      <th>pm2.5</th>\n",
       "      <td>2.42</td>\n",
       "    </tr>\n",
       "    <tr>\n",
       "      <th>pm10</th>\n",
       "      <td>5.01</td>\n",
       "    </tr>\n",
       "    <tr>\n",
       "      <th>o3</th>\n",
       "      <td>2.59</td>\n",
       "    </tr>\n",
       "    <tr>\n",
       "      <th>no2</th>\n",
       "      <td>1.87</td>\n",
       "    </tr>\n",
       "    <tr>\n",
       "      <th>so2</th>\n",
       "      <td>30.13</td>\n",
       "    </tr>\n",
       "  </tbody>\n",
       "</table>\n",
       "</div>"
      ],
      "text/plain": [
       "       prop_nulls\n",
       "date         0.00\n",
       "pm2.5        2.42\n",
       "pm10         5.01\n",
       "o3           2.59\n",
       "no2          1.87\n",
       "so2         30.13"
      ]
     },
     "execution_count": 17,
     "metadata": {},
     "output_type": "execute_result"
    }
   ],
   "source": [
    "nulls_df=pd.DataFrame(round(data.isna().sum()/len(data),4)*100)\n",
    "nulls_df=nulls_df.rename(columns={'index':'header',0:'prop_nulls'})\n",
    "nulls_df"
   ]
  },
  {
   "cell_type": "code",
   "execution_count": 18,
   "id": "f7e7cb8d",
   "metadata": {},
   "outputs": [],
   "source": [
    "data=data.drop(['so2'],axis=1)"
   ]
  },
  {
   "cell_type": "code",
   "execution_count": 19,
   "id": "0a09fca9",
   "metadata": {
    "scrolled": true
   },
   "outputs": [
    {
     "data": {
      "text/html": [
       "<div>\n",
       "<style scoped>\n",
       "    .dataframe tbody tr th:only-of-type {\n",
       "        vertical-align: middle;\n",
       "    }\n",
       "\n",
       "    .dataframe tbody tr th {\n",
       "        vertical-align: top;\n",
       "    }\n",
       "\n",
       "    .dataframe thead th {\n",
       "        text-align: right;\n",
       "    }\n",
       "</style>\n",
       "<table border=\"1\" class=\"dataframe\">\n",
       "  <thead>\n",
       "    <tr style=\"text-align: right;\">\n",
       "      <th></th>\n",
       "      <th>prop_nulls</th>\n",
       "    </tr>\n",
       "  </thead>\n",
       "  <tbody>\n",
       "    <tr>\n",
       "      <th>date</th>\n",
       "      <td>0.00</td>\n",
       "    </tr>\n",
       "    <tr>\n",
       "      <th>pm2.5</th>\n",
       "      <td>2.42</td>\n",
       "    </tr>\n",
       "    <tr>\n",
       "      <th>pm10</th>\n",
       "      <td>5.01</td>\n",
       "    </tr>\n",
       "    <tr>\n",
       "      <th>o3</th>\n",
       "      <td>2.59</td>\n",
       "    </tr>\n",
       "    <tr>\n",
       "      <th>no2</th>\n",
       "      <td>1.87</td>\n",
       "    </tr>\n",
       "  </tbody>\n",
       "</table>\n",
       "</div>"
      ],
      "text/plain": [
       "       prop_nulls\n",
       "date         0.00\n",
       "pm2.5        2.42\n",
       "pm10         5.01\n",
       "o3           2.59\n",
       "no2          1.87"
      ]
     },
     "execution_count": 19,
     "metadata": {},
     "output_type": "execute_result"
    }
   ],
   "source": [
    "nulls_df=pd.DataFrame(round(data.isna().sum()/len(data),4)*100)\n",
    "nulls_df=nulls_df.rename(columns={'index':'header',0:'prop_nulls'})\n",
    "nulls_df"
   ]
  },
  {
   "cell_type": "code",
   "execution_count": 25,
   "id": "7a23bea9",
   "metadata": {},
   "outputs": [],
   "source": [
    "import statistics as stats"
   ]
  },
  {
   "cell_type": "code",
   "execution_count": 26,
   "id": "de234dae",
   "metadata": {},
   "outputs": [
    {
     "data": {
      "text/html": [
       "<div>\n",
       "<style scoped>\n",
       "    .dataframe tbody tr th:only-of-type {\n",
       "        vertical-align: middle;\n",
       "    }\n",
       "\n",
       "    .dataframe tbody tr th {\n",
       "        vertical-align: top;\n",
       "    }\n",
       "\n",
       "    .dataframe thead th {\n",
       "        text-align: right;\n",
       "    }\n",
       "</style>\n",
       "<table border=\"1\" class=\"dataframe\">\n",
       "  <thead>\n",
       "    <tr style=\"text-align: right;\">\n",
       "      <th></th>\n",
       "      <th>prop_nulls</th>\n",
       "    </tr>\n",
       "  </thead>\n",
       "  <tbody>\n",
       "    <tr>\n",
       "      <th>date</th>\n",
       "      <td>0.0</td>\n",
       "    </tr>\n",
       "    <tr>\n",
       "      <th>pm2.5</th>\n",
       "      <td>0.0</td>\n",
       "    </tr>\n",
       "    <tr>\n",
       "      <th>pm10</th>\n",
       "      <td>0.0</td>\n",
       "    </tr>\n",
       "    <tr>\n",
       "      <th>o3</th>\n",
       "      <td>0.0</td>\n",
       "    </tr>\n",
       "    <tr>\n",
       "      <th>no2</th>\n",
       "      <td>0.0</td>\n",
       "    </tr>\n",
       "  </tbody>\n",
       "</table>\n",
       "</div>"
      ],
      "text/plain": [
       "       prop_nulls\n",
       "date          0.0\n",
       "pm2.5         0.0\n",
       "pm10          0.0\n",
       "o3            0.0\n",
       "no2           0.0"
      ]
     },
     "execution_count": 26,
     "metadata": {},
     "output_type": "execute_result"
    }
   ],
   "source": [
    "med_1=data['pm2.5'].median()\n",
    "med_2=data['pm10'].median()\n",
    "med_3=data['o3'].median()\n",
    "med_4=data['no2'].median()\n",
    "data['pm2.5']=data['pm2.5'].fillna(med_1)\n",
    "data['pm10']=data['pm10'].fillna(med_2)\n",
    "data['o3']=data['o3'].fillna(med_3)\n",
    "data['no2']=data['no2'].fillna(med_4)\n",
    "nulls_df=pd.DataFrame(round(data.isna().sum()/len(data),4)*100)\n",
    "nulls_df=nulls_df.rename(columns={'index':'header',0:'prop_nulls'})\n",
    "nulls_df"
   ]
  },
  {
   "cell_type": "code",
   "execution_count": 27,
   "id": "d8139e99",
   "metadata": {},
   "outputs": [],
   "source": [
    "import time \n",
    "from datetime import date "
   ]
  },
  {
   "cell_type": "code",
   "execution_count": 28,
   "id": "110edd8b",
   "metadata": {
    "scrolled": true
   },
   "outputs": [
    {
     "name": "stdout",
     "output_type": "stream",
     "text": [
      "<class 'pandas.core.frame.DataFrame'>\n",
      "RangeIndex: 2934 entries, 0 to 2933\n",
      "Data columns (total 5 columns):\n",
      " #   Column  Non-Null Count  Dtype         \n",
      "---  ------  --------------  -----         \n",
      " 0   date    2934 non-null   datetime64[ns]\n",
      " 1   pm2.5   2934 non-null   float64       \n",
      " 2   pm10    2934 non-null   float64       \n",
      " 3   o3      2934 non-null   float64       \n",
      " 4   no2     2934 non-null   float64       \n",
      "dtypes: datetime64[ns](1), float64(4)\n",
      "memory usage: 114.7 KB\n"
     ]
    }
   ],
   "source": [
    "data['date']=pd.to_datetime(data['date'],errors='coerce')\n",
    "data.info()"
   ]
  },
  {
   "cell_type": "code",
   "execution_count": 29,
   "id": "65d20d5d",
   "metadata": {
    "scrolled": true
   },
   "outputs": [
    {
     "data": {
      "text/html": [
       "<div>\n",
       "<style scoped>\n",
       "    .dataframe tbody tr th:only-of-type {\n",
       "        vertical-align: middle;\n",
       "    }\n",
       "\n",
       "    .dataframe tbody tr th {\n",
       "        vertical-align: top;\n",
       "    }\n",
       "\n",
       "    .dataframe thead th {\n",
       "        text-align: right;\n",
       "    }\n",
       "</style>\n",
       "<table border=\"1\" class=\"dataframe\">\n",
       "  <thead>\n",
       "    <tr style=\"text-align: right;\">\n",
       "      <th></th>\n",
       "      <th>date</th>\n",
       "      <th>pm2.5</th>\n",
       "      <th>pm10</th>\n",
       "      <th>o3</th>\n",
       "      <th>no2</th>\n",
       "    </tr>\n",
       "  </thead>\n",
       "  <tbody>\n",
       "    <tr>\n",
       "      <th>0</th>\n",
       "      <td>2022-01-03</td>\n",
       "      <td>44.0</td>\n",
       "      <td>13.0</td>\n",
       "      <td>20.0</td>\n",
       "      <td>20.0</td>\n",
       "    </tr>\n",
       "    <tr>\n",
       "      <th>1</th>\n",
       "      <td>2022-01-04</td>\n",
       "      <td>35.0</td>\n",
       "      <td>15.0</td>\n",
       "      <td>12.0</td>\n",
       "      <td>28.0</td>\n",
       "    </tr>\n",
       "    <tr>\n",
       "      <th>2</th>\n",
       "      <td>2022-01-05</td>\n",
       "      <td>43.0</td>\n",
       "      <td>18.0</td>\n",
       "      <td>26.0</td>\n",
       "      <td>20.0</td>\n",
       "    </tr>\n",
       "    <tr>\n",
       "      <th>3</th>\n",
       "      <td>2022-01-06</td>\n",
       "      <td>51.0</td>\n",
       "      <td>12.0</td>\n",
       "      <td>26.0</td>\n",
       "      <td>16.0</td>\n",
       "    </tr>\n",
       "    <tr>\n",
       "      <th>4</th>\n",
       "      <td>2022-01-07</td>\n",
       "      <td>38.0</td>\n",
       "      <td>13.0</td>\n",
       "      <td>23.0</td>\n",
       "      <td>15.0</td>\n",
       "    </tr>\n",
       "    <tr>\n",
       "      <th>...</th>\n",
       "      <td>...</td>\n",
       "      <td>...</td>\n",
       "      <td>...</td>\n",
       "      <td>...</td>\n",
       "      <td>...</td>\n",
       "    </tr>\n",
       "    <tr>\n",
       "      <th>2929</th>\n",
       "      <td>2014-03-07</td>\n",
       "      <td>41.0</td>\n",
       "      <td>15.0</td>\n",
       "      <td>24.0</td>\n",
       "      <td>21.0</td>\n",
       "    </tr>\n",
       "    <tr>\n",
       "      <th>2930</th>\n",
       "      <td>2014-03-08</td>\n",
       "      <td>41.0</td>\n",
       "      <td>15.0</td>\n",
       "      <td>28.0</td>\n",
       "      <td>25.0</td>\n",
       "    </tr>\n",
       "    <tr>\n",
       "      <th>2931</th>\n",
       "      <td>2020-09-26</td>\n",
       "      <td>41.0</td>\n",
       "      <td>15.0</td>\n",
       "      <td>19.0</td>\n",
       "      <td>17.0</td>\n",
       "    </tr>\n",
       "    <tr>\n",
       "      <th>2932</th>\n",
       "      <td>2020-09-27</td>\n",
       "      <td>41.0</td>\n",
       "      <td>15.0</td>\n",
       "      <td>19.0</td>\n",
       "      <td>17.0</td>\n",
       "    </tr>\n",
       "    <tr>\n",
       "      <th>2933</th>\n",
       "      <td>2020-09-28</td>\n",
       "      <td>41.0</td>\n",
       "      <td>15.0</td>\n",
       "      <td>19.0</td>\n",
       "      <td>17.0</td>\n",
       "    </tr>\n",
       "  </tbody>\n",
       "</table>\n",
       "<p>2934 rows × 5 columns</p>\n",
       "</div>"
      ],
      "text/plain": [
       "           date  pm2.5  pm10    o3   no2\n",
       "0    2022-01-03   44.0  13.0  20.0  20.0\n",
       "1    2022-01-04   35.0  15.0  12.0  28.0\n",
       "2    2022-01-05   43.0  18.0  26.0  20.0\n",
       "3    2022-01-06   51.0  12.0  26.0  16.0\n",
       "4    2022-01-07   38.0  13.0  23.0  15.0\n",
       "...         ...    ...   ...   ...   ...\n",
       "2929 2014-03-07   41.0  15.0  24.0  21.0\n",
       "2930 2014-03-08   41.0  15.0  28.0  25.0\n",
       "2931 2020-09-26   41.0  15.0  19.0  17.0\n",
       "2932 2020-09-27   41.0  15.0  19.0  17.0\n",
       "2933 2020-09-28   41.0  15.0  19.0  17.0\n",
       "\n",
       "[2934 rows x 5 columns]"
      ]
     },
     "execution_count": 29,
     "metadata": {},
     "output_type": "execute_result"
    }
   ],
   "source": [
    "data"
   ]
  },
  {
   "cell_type": "code",
   "execution_count": null,
   "id": "4f8013b9",
   "metadata": {},
   "outputs": [],
   "source": []
  },
  {
   "cell_type": "markdown",
   "id": "6eb33558",
   "metadata": {},
   "source": [
    "## What is the format of the data you have found?"
   ]
  },
  {
   "cell_type": "code",
   "execution_count": 30,
   "id": "5d90d712",
   "metadata": {},
   "outputs": [],
   "source": [
    "#All fields were categorical and has been changed to a numerical data type."
   ]
  },
  {
   "cell_type": "markdown",
   "id": "80db3a1c",
   "metadata": {},
   "source": [
    "## Will the data need cleaning?"
   ]
  },
  {
   "cell_type": "code",
   "execution_count": 31,
   "id": "0afb53d1",
   "metadata": {},
   "outputs": [],
   "source": [
    "#Yes, there are a few null values in some columns, specially in the CO, so we have dropped that column."
   ]
  },
  {
   "cell_type": "markdown",
   "id": "75c91095",
   "metadata": {},
   "source": [
    "## Can I feasibly join this data with other sources of data I have collected?"
   ]
  },
  {
   "cell_type": "code",
   "execution_count": null,
   "id": "74c6653e",
   "metadata": {},
   "outputs": [],
   "source": []
  },
  {
   "cell_type": "markdown",
   "id": "82b9abaf",
   "metadata": {},
   "source": [
    "## How reliable is the data source?"
   ]
  },
  {
   "cell_type": "code",
   "execution_count": null,
   "id": "985e7b76",
   "metadata": {},
   "outputs": [],
   "source": []
  },
  {
   "cell_type": "markdown",
   "id": "fb0a5dec",
   "metadata": {},
   "source": [
    "## What data questions can I really answer with this data?"
   ]
  },
  {
   "cell_type": "code",
   "execution_count": null,
   "id": "716e2b8a",
   "metadata": {},
   "outputs": [],
   "source": []
  },
  {
   "cell_type": "markdown",
   "id": "b379ee0b",
   "metadata": {},
   "source": [
    "## What recommendations or insights could I try to capture with this data?"
   ]
  },
  {
   "cell_type": "code",
   "execution_count": null,
   "id": "5815bb01",
   "metadata": {},
   "outputs": [],
   "source": []
  },
  {
   "cell_type": "markdown",
   "id": "1f008d6c",
   "metadata": {},
   "source": [
    "## What actions can be taken off the back of any data analysis using this data?"
   ]
  },
  {
   "cell_type": "code",
   "execution_count": null,
   "id": "a438e50c",
   "metadata": {},
   "outputs": [],
   "source": []
  }
 ],
 "metadata": {
  "kernelspec": {
   "display_name": "Python 3 (ipykernel)",
   "language": "python",
   "name": "python3"
  },
  "language_info": {
   "codemirror_mode": {
    "name": "ipython",
    "version": 3
   },
   "file_extension": ".py",
   "mimetype": "text/x-python",
   "name": "python",
   "nbconvert_exporter": "python",
   "pygments_lexer": "ipython3",
   "version": "3.9.7"
  },
  "toc": {
   "base_numbering": 1,
   "nav_menu": {},
   "number_sections": true,
   "sideBar": true,
   "skip_h1_title": false,
   "title_cell": "Table of Contents",
   "title_sidebar": "Contents",
   "toc_cell": false,
   "toc_position": {},
   "toc_section_display": true,
   "toc_window_display": false
  }
 },
 "nbformat": 4,
 "nbformat_minor": 5
}
