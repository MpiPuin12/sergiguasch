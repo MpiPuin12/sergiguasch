{
 "cells": [
  {
   "cell_type": "code",
   "execution_count": 1,
   "id": "a8e468ee",
   "metadata": {},
   "outputs": [],
   "source": [
    "import numpy as np \n",
    "import pandas as pd "
   ]
  },
  {
   "cell_type": "code",
   "execution_count": 8,
   "id": "563db6f4",
   "metadata": {
    "scrolled": true
   },
   "outputs": [
    {
     "name": "stdout",
     "output_type": "stream",
     "text": [
      " Volume in drive C is OS\n",
      " Volume Serial Number is A4B9-8E3D\n",
      "\n",
      " Directory of C:\\Users\\Sergi\\OneDrive\\Documents\\GitHub\\sergiguasch\\lessons\\unit1\\csv\n",
      "\n",
      "01/20/2022  10:16 PM    <DIR>          .\n",
      "01/20/2022  10:16 PM    <DIR>          ..\n",
      "01/19/2022  11:02 AM           135,993 air_quality_no2_long.csv\n",
      "01/20/2022  09:49 AM            49,622 camden-- euston road-air-quality.csv\n",
      "01/18/2022  09:32 AM            27,668 city-of london - farringdon street-air-quality.csv\n",
      "01/18/2022  02:38 PM           309,230 day1_analysis_H4A.csv\n",
      "01/18/2022  02:56 PM           145,932 file1.csv\n",
      "01/18/2022  02:57 PM            92,344 file2.csv\n",
      "01/18/2022  02:57 PM           625,674 file3.csv\n",
      "01/20/2022  09:52 AM            89,535 london_bloomsbury.csv\n",
      "01/18/2022  09:48 AM            93,352 london-air-quality.csv\n",
      "01/18/2022  10:12 AM            90,844 london-marylebone road, united kingdom-air-quality.csv\n",
      "01/20/2022  09:46 AM            74,834 london-westminster-air-quality.csv\n",
      "01/19/2022  02:13 PM         2,015,683 marketing_customer_analysis.csv\n",
      "01/20/2022  02:59 PM           323,250 merged_clean_h4a.csv\n",
      "01/19/2022  10:35 PM           254,150 merged_clean_ver1.csv\n",
      "01/20/2022  11:32 AM           339,163 merged_healthcare.csv\n",
      "              15 File(s)      4,667,274 bytes\n",
      "               2 Dir(s)  344,653,189,120 bytes free\n"
     ]
    }
   ],
   "source": [
    "ls"
   ]
  },
  {
   "cell_type": "code",
   "execution_count": 2,
   "id": "c9718877",
   "metadata": {
    "scrolled": true
   },
   "outputs": [
    {
     "name": "stdout",
     "output_type": "stream",
     "text": [
      " Volume in drive C is OS\n",
      " Volume Serial Number is A4B9-8E3D\n",
      "\n",
      " Directory of C:\\Users\\Sergi\\OneDrive\\Documents\\GitHub\\sergiguasch\\lessons\\unit1\\DAY2\\Pollution\n",
      "\n",
      "01/20/2022  10:14 AM    <DIR>          .\n",
      "01/19/2022  09:43 PM    <DIR>          ..\n",
      "01/20/2022  09:57 AM    <DIR>          .ipynb_checkpoints\n",
      "01/18/2022  09:46 AM       786,264,069 4.1. Concentrations LAEI 2013 Update.zip\n",
      "01/20/2022  09:49 AM            49,622 camden-- euston road-air-quality.csv\n",
      "01/18/2022  09:32 AM            27,668 city-of london - farringdon street-air-quality.csv\n",
      "01/19/2022  01:59 PM    <DIR>          LAEI2016_Emissions_Summary-NOxPMCO2_v1\n",
      "01/19/2022  01:59 PM    <DIR>          LAEI2019-Emissions-Summary-Excel\n",
      "01/20/2022  09:52 AM            89,535 london_bloomsbury.csv\n",
      "01/18/2022  09:48 AM            93,352 london-air-quality.csv\n",
      "01/18/2022  10:12 AM            90,844 london-marylebone road, united kingdom-air-quality.csv\n",
      "01/20/2022  09:46 AM            74,834 london-westminster-air-quality.csv\n",
      "01/20/2022  10:14 AM            14,628 Pollution London.ipynb\n",
      "               8 File(s)    786,704,552 bytes\n",
      "               5 Dir(s)  345,840,246,784 bytes free\n"
     ]
    }
   ],
   "source": [
    "ls"
   ]
  },
  {
   "cell_type": "code",
   "execution_count": 10,
   "id": "bab08b13",
   "metadata": {},
   "outputs": [],
   "source": [
    "data=pd.read_csv('london_bloomsbury.csv')"
   ]
  },
  {
   "cell_type": "code",
   "execution_count": 11,
   "id": "4c16fcd7",
   "metadata": {
    "scrolled": true
   },
   "outputs": [
    {
     "data": {
      "text/html": [
       "<div>\n",
       "<style scoped>\n",
       "    .dataframe tbody tr th:only-of-type {\n",
       "        vertical-align: middle;\n",
       "    }\n",
       "\n",
       "    .dataframe tbody tr th {\n",
       "        vertical-align: top;\n",
       "    }\n",
       "\n",
       "    .dataframe thead th {\n",
       "        text-align: right;\n",
       "    }\n",
       "</style>\n",
       "<table border=\"1\" class=\"dataframe\">\n",
       "  <thead>\n",
       "    <tr style=\"text-align: right;\">\n",
       "      <th></th>\n",
       "      <th>date</th>\n",
       "      <th>pm25</th>\n",
       "      <th>pm10</th>\n",
       "      <th>o3</th>\n",
       "      <th>no2</th>\n",
       "      <th>so2</th>\n",
       "      <th>co</th>\n",
       "    </tr>\n",
       "  </thead>\n",
       "  <tbody>\n",
       "    <tr>\n",
       "      <th>0</th>\n",
       "      <td>2022/1/3</td>\n",
       "      <td>44</td>\n",
       "      <td>13</td>\n",
       "      <td>20</td>\n",
       "      <td>20</td>\n",
       "      <td>2</td>\n",
       "      <td>5</td>\n",
       "    </tr>\n",
       "    <tr>\n",
       "      <th>1</th>\n",
       "      <td>2022/1/4</td>\n",
       "      <td>35</td>\n",
       "      <td>15</td>\n",
       "      <td>12</td>\n",
       "      <td>28</td>\n",
       "      <td></td>\n",
       "      <td>11</td>\n",
       "    </tr>\n",
       "    <tr>\n",
       "      <th>2</th>\n",
       "      <td>2022/1/5</td>\n",
       "      <td>43</td>\n",
       "      <td>18</td>\n",
       "      <td>26</td>\n",
       "      <td>20</td>\n",
       "      <td></td>\n",
       "      <td>9</td>\n",
       "    </tr>\n",
       "    <tr>\n",
       "      <th>3</th>\n",
       "      <td>2022/1/6</td>\n",
       "      <td>51</td>\n",
       "      <td>12</td>\n",
       "      <td>26</td>\n",
       "      <td>16</td>\n",
       "      <td></td>\n",
       "      <td>9</td>\n",
       "    </tr>\n",
       "    <tr>\n",
       "      <th>4</th>\n",
       "      <td>2022/1/7</td>\n",
       "      <td>38</td>\n",
       "      <td>13</td>\n",
       "      <td>23</td>\n",
       "      <td>15</td>\n",
       "      <td>1</td>\n",
       "      <td>6</td>\n",
       "    </tr>\n",
       "    <tr>\n",
       "      <th>...</th>\n",
       "      <td>...</td>\n",
       "      <td>...</td>\n",
       "      <td>...</td>\n",
       "      <td>...</td>\n",
       "      <td>...</td>\n",
       "      <td>...</td>\n",
       "      <td>...</td>\n",
       "    </tr>\n",
       "    <tr>\n",
       "      <th>2929</th>\n",
       "      <td>2014/3/7</td>\n",
       "      <td></td>\n",
       "      <td></td>\n",
       "      <td>24</td>\n",
       "      <td>21</td>\n",
       "      <td>1</td>\n",
       "      <td></td>\n",
       "    </tr>\n",
       "    <tr>\n",
       "      <th>2930</th>\n",
       "      <td>2014/3/8</td>\n",
       "      <td></td>\n",
       "      <td></td>\n",
       "      <td>28</td>\n",
       "      <td>25</td>\n",
       "      <td>1</td>\n",
       "      <td></td>\n",
       "    </tr>\n",
       "    <tr>\n",
       "      <th>2931</th>\n",
       "      <td>2020/9/26</td>\n",
       "      <td></td>\n",
       "      <td></td>\n",
       "      <td></td>\n",
       "      <td></td>\n",
       "      <td></td>\n",
       "      <td>1</td>\n",
       "    </tr>\n",
       "    <tr>\n",
       "      <th>2932</th>\n",
       "      <td>2020/9/27</td>\n",
       "      <td></td>\n",
       "      <td></td>\n",
       "      <td></td>\n",
       "      <td></td>\n",
       "      <td></td>\n",
       "      <td>4</td>\n",
       "    </tr>\n",
       "    <tr>\n",
       "      <th>2933</th>\n",
       "      <td>2020/9/28</td>\n",
       "      <td></td>\n",
       "      <td></td>\n",
       "      <td></td>\n",
       "      <td></td>\n",
       "      <td></td>\n",
       "      <td>2</td>\n",
       "    </tr>\n",
       "  </tbody>\n",
       "</table>\n",
       "<p>2934 rows × 7 columns</p>\n",
       "</div>"
      ],
      "text/plain": [
       "           date  pm25  pm10   o3  no2  so2   co\n",
       "0      2022/1/3    44    13   20   20    2    5\n",
       "1      2022/1/4    35    15   12   28        11\n",
       "2      2022/1/5    43    18   26   20         9\n",
       "3      2022/1/6    51    12   26   16         9\n",
       "4      2022/1/7    38    13   23   15    1    6\n",
       "...         ...   ...   ...  ...  ...  ...  ...\n",
       "2929   2014/3/7               24   21    1     \n",
       "2930   2014/3/8               28   25    1     \n",
       "2931  2020/9/26                               1\n",
       "2932  2020/9/27                               4\n",
       "2933  2020/9/28                               2\n",
       "\n",
       "[2934 rows x 7 columns]"
      ]
     },
     "execution_count": 11,
     "metadata": {},
     "output_type": "execute_result"
    }
   ],
   "source": [
    "data"
   ]
  },
  {
   "cell_type": "code",
   "execution_count": 12,
   "id": "9d5b7fc3",
   "metadata": {},
   "outputs": [
    {
     "data": {
      "text/plain": [
       "(2934, 7)"
      ]
     },
     "execution_count": 12,
     "metadata": {},
     "output_type": "execute_result"
    }
   ],
   "source": [
    "data.shape"
   ]
  },
  {
   "cell_type": "code",
   "execution_count": 13,
   "id": "3fd23797",
   "metadata": {},
   "outputs": [
    {
     "data": {
      "text/plain": [
       "Index(['date', ' pm25', ' pm10', ' o3', ' no2', ' so2', ' co'], dtype='object')"
      ]
     },
     "execution_count": 13,
     "metadata": {},
     "output_type": "execute_result"
    }
   ],
   "source": [
    "data.columns"
   ]
  },
  {
   "cell_type": "code",
   "execution_count": 14,
   "id": "e8879580",
   "metadata": {},
   "outputs": [
    {
     "data": {
      "text/plain": [
       "Index(['date', ' pm2.5', ' pm10', ' o3', ' no2', ' so2', ' co'], dtype='object')"
      ]
     },
     "execution_count": 14,
     "metadata": {},
     "output_type": "execute_result"
    }
   ],
   "source": [
    "data.columns=data.columns.str.replace(\"25\", \"2.5\")\n",
    "data.columns"
   ]
  },
  {
   "cell_type": "code",
   "execution_count": 15,
   "id": "ea34b00c",
   "metadata": {},
   "outputs": [
    {
     "data": {
      "text/plain": [
       "Index(['date', 'pm2.5', 'pm10', 'o3', 'no2', 'so2', 'co'], dtype='object')"
      ]
     },
     "execution_count": 15,
     "metadata": {},
     "output_type": "execute_result"
    }
   ],
   "source": [
    "data.columns=data.columns.str.replace(\" \", \"\")\n",
    "data.columns"
   ]
  },
  {
   "cell_type": "code",
   "execution_count": 16,
   "id": "7ec30713",
   "metadata": {},
   "outputs": [
    {
     "data": {
      "text/html": [
       "<div>\n",
       "<style scoped>\n",
       "    .dataframe tbody tr th:only-of-type {\n",
       "        vertical-align: middle;\n",
       "    }\n",
       "\n",
       "    .dataframe tbody tr th {\n",
       "        vertical-align: top;\n",
       "    }\n",
       "\n",
       "    .dataframe thead th {\n",
       "        text-align: right;\n",
       "    }\n",
       "</style>\n",
       "<table border=\"1\" class=\"dataframe\">\n",
       "  <thead>\n",
       "    <tr style=\"text-align: right;\">\n",
       "      <th></th>\n",
       "      <th>date</th>\n",
       "      <th>pm2.5</th>\n",
       "      <th>pm10</th>\n",
       "      <th>o3</th>\n",
       "      <th>no2</th>\n",
       "      <th>so2</th>\n",
       "      <th>co</th>\n",
       "    </tr>\n",
       "  </thead>\n",
       "  <tbody>\n",
       "    <tr>\n",
       "      <th>0</th>\n",
       "      <td>2022/1/3</td>\n",
       "      <td>44</td>\n",
       "      <td>13</td>\n",
       "      <td>20</td>\n",
       "      <td>20</td>\n",
       "      <td>2</td>\n",
       "      <td>5</td>\n",
       "    </tr>\n",
       "    <tr>\n",
       "      <th>1</th>\n",
       "      <td>2022/1/4</td>\n",
       "      <td>35</td>\n",
       "      <td>15</td>\n",
       "      <td>12</td>\n",
       "      <td>28</td>\n",
       "      <td></td>\n",
       "      <td>11</td>\n",
       "    </tr>\n",
       "    <tr>\n",
       "      <th>2</th>\n",
       "      <td>2022/1/5</td>\n",
       "      <td>43</td>\n",
       "      <td>18</td>\n",
       "      <td>26</td>\n",
       "      <td>20</td>\n",
       "      <td></td>\n",
       "      <td>9</td>\n",
       "    </tr>\n",
       "    <tr>\n",
       "      <th>3</th>\n",
       "      <td>2022/1/6</td>\n",
       "      <td>51</td>\n",
       "      <td>12</td>\n",
       "      <td>26</td>\n",
       "      <td>16</td>\n",
       "      <td></td>\n",
       "      <td>9</td>\n",
       "    </tr>\n",
       "    <tr>\n",
       "      <th>4</th>\n",
       "      <td>2022/1/7</td>\n",
       "      <td>38</td>\n",
       "      <td>13</td>\n",
       "      <td>23</td>\n",
       "      <td>15</td>\n",
       "      <td>1</td>\n",
       "      <td>6</td>\n",
       "    </tr>\n",
       "    <tr>\n",
       "      <th>...</th>\n",
       "      <td>...</td>\n",
       "      <td>...</td>\n",
       "      <td>...</td>\n",
       "      <td>...</td>\n",
       "      <td>...</td>\n",
       "      <td>...</td>\n",
       "      <td>...</td>\n",
       "    </tr>\n",
       "    <tr>\n",
       "      <th>2929</th>\n",
       "      <td>2014/3/7</td>\n",
       "      <td></td>\n",
       "      <td></td>\n",
       "      <td>24</td>\n",
       "      <td>21</td>\n",
       "      <td>1</td>\n",
       "      <td></td>\n",
       "    </tr>\n",
       "    <tr>\n",
       "      <th>2930</th>\n",
       "      <td>2014/3/8</td>\n",
       "      <td></td>\n",
       "      <td></td>\n",
       "      <td>28</td>\n",
       "      <td>25</td>\n",
       "      <td>1</td>\n",
       "      <td></td>\n",
       "    </tr>\n",
       "    <tr>\n",
       "      <th>2931</th>\n",
       "      <td>2020/9/26</td>\n",
       "      <td></td>\n",
       "      <td></td>\n",
       "      <td></td>\n",
       "      <td></td>\n",
       "      <td></td>\n",
       "      <td>1</td>\n",
       "    </tr>\n",
       "    <tr>\n",
       "      <th>2932</th>\n",
       "      <td>2020/9/27</td>\n",
       "      <td></td>\n",
       "      <td></td>\n",
       "      <td></td>\n",
       "      <td></td>\n",
       "      <td></td>\n",
       "      <td>4</td>\n",
       "    </tr>\n",
       "    <tr>\n",
       "      <th>2933</th>\n",
       "      <td>2020/9/28</td>\n",
       "      <td></td>\n",
       "      <td></td>\n",
       "      <td></td>\n",
       "      <td></td>\n",
       "      <td></td>\n",
       "      <td>2</td>\n",
       "    </tr>\n",
       "  </tbody>\n",
       "</table>\n",
       "<p>2934 rows × 7 columns</p>\n",
       "</div>"
      ],
      "text/plain": [
       "           date pm2.5 pm10   o3  no2 so2   co\n",
       "0      2022/1/3    44   13   20   20   2    5\n",
       "1      2022/1/4    35   15   12   28       11\n",
       "2      2022/1/5    43   18   26   20        9\n",
       "3      2022/1/6    51   12   26   16        9\n",
       "4      2022/1/7    38   13   23   15   1    6\n",
       "...         ...   ...  ...  ...  ...  ..  ...\n",
       "2929   2014/3/7              24   21   1     \n",
       "2930   2014/3/8              28   25   1     \n",
       "2931  2020/9/26                             1\n",
       "2932  2020/9/27                             4\n",
       "2933  2020/9/28                             2\n",
       "\n",
       "[2934 rows x 7 columns]"
      ]
     },
     "execution_count": 16,
     "metadata": {},
     "output_type": "execute_result"
    }
   ],
   "source": [
    "data"
   ]
  },
  {
   "cell_type": "code",
   "execution_count": 17,
   "id": "9b0838d9",
   "metadata": {
    "scrolled": false
   },
   "outputs": [
    {
     "name": "stdout",
     "output_type": "stream",
     "text": [
      "<class 'pandas.core.frame.DataFrame'>\n",
      "RangeIndex: 2934 entries, 0 to 2933\n",
      "Data columns (total 7 columns):\n",
      " #   Column  Non-Null Count  Dtype \n",
      "---  ------  --------------  ----- \n",
      " 0   date    2934 non-null   object\n",
      " 1   pm2.5   2934 non-null   object\n",
      " 2   pm10    2934 non-null   object\n",
      " 3   o3      2934 non-null   object\n",
      " 4   no2     2934 non-null   object\n",
      " 5   so2     2934 non-null   object\n",
      " 6   co      2934 non-null   object\n",
      "dtypes: object(7)\n",
      "memory usage: 160.6+ KB\n"
     ]
    }
   ],
   "source": [
    "data.info()"
   ]
  },
  {
   "cell_type": "code",
   "execution_count": 18,
   "id": "d7557893",
   "metadata": {},
   "outputs": [],
   "source": [
    "data['pm2.5']=pd.to_numeric(data['pm2.5'],errors='coerce')\n",
    "data['pm10']=pd.to_numeric(data['pm10'],errors='coerce')\n",
    "data['o3']=pd.to_numeric(data['o3'],errors='coerce')\n",
    "data['no2']=pd.to_numeric(data['no2'],errors='coerce')\n",
    "data['so2']=pd.to_numeric(data['so2'],errors='coerce')\n",
    "data['co']=pd.to_numeric(data['co'],errors='coerce')"
   ]
  },
  {
   "cell_type": "code",
   "execution_count": 19,
   "id": "b64c3125",
   "metadata": {},
   "outputs": [],
   "source": [
    "nulls_df=pd.DataFrame(round(data.isna().sum()/len(data),4)*100)"
   ]
  },
  {
   "cell_type": "code",
   "execution_count": 20,
   "id": "91a29654",
   "metadata": {},
   "outputs": [],
   "source": [
    "nulls_df=nulls_df.rename(columns={'index':'header',0:'prop_nulls'})"
   ]
  },
  {
   "cell_type": "code",
   "execution_count": 21,
   "id": "94eecb5f",
   "metadata": {
    "scrolled": true
   },
   "outputs": [
    {
     "data": {
      "text/html": [
       "<div>\n",
       "<style scoped>\n",
       "    .dataframe tbody tr th:only-of-type {\n",
       "        vertical-align: middle;\n",
       "    }\n",
       "\n",
       "    .dataframe tbody tr th {\n",
       "        vertical-align: top;\n",
       "    }\n",
       "\n",
       "    .dataframe thead th {\n",
       "        text-align: right;\n",
       "    }\n",
       "</style>\n",
       "<table border=\"1\" class=\"dataframe\">\n",
       "  <thead>\n",
       "    <tr style=\"text-align: right;\">\n",
       "      <th></th>\n",
       "      <th>prop_nulls</th>\n",
       "    </tr>\n",
       "  </thead>\n",
       "  <tbody>\n",
       "    <tr>\n",
       "      <th>date</th>\n",
       "      <td>0.00</td>\n",
       "    </tr>\n",
       "    <tr>\n",
       "      <th>pm2.5</th>\n",
       "      <td>2.42</td>\n",
       "    </tr>\n",
       "    <tr>\n",
       "      <th>pm10</th>\n",
       "      <td>5.01</td>\n",
       "    </tr>\n",
       "    <tr>\n",
       "      <th>o3</th>\n",
       "      <td>2.59</td>\n",
       "    </tr>\n",
       "    <tr>\n",
       "      <th>no2</th>\n",
       "      <td>1.87</td>\n",
       "    </tr>\n",
       "    <tr>\n",
       "      <th>so2</th>\n",
       "      <td>30.13</td>\n",
       "    </tr>\n",
       "    <tr>\n",
       "      <th>co</th>\n",
       "      <td>60.12</td>\n",
       "    </tr>\n",
       "  </tbody>\n",
       "</table>\n",
       "</div>"
      ],
      "text/plain": [
       "       prop_nulls\n",
       "date         0.00\n",
       "pm2.5        2.42\n",
       "pm10         5.01\n",
       "o3           2.59\n",
       "no2          1.87\n",
       "so2         30.13\n",
       "co          60.12"
      ]
     },
     "execution_count": 21,
     "metadata": {},
     "output_type": "execute_result"
    }
   ],
   "source": [
    "nulls_df"
   ]
  },
  {
   "cell_type": "code",
   "execution_count": 22,
   "id": "2b3c6349",
   "metadata": {},
   "outputs": [],
   "source": [
    "data=data.drop(['co'],axis=1)"
   ]
  },
  {
   "cell_type": "code",
   "execution_count": 23,
   "id": "2ee511c1",
   "metadata": {},
   "outputs": [
    {
     "data": {
      "text/html": [
       "<div>\n",
       "<style scoped>\n",
       "    .dataframe tbody tr th:only-of-type {\n",
       "        vertical-align: middle;\n",
       "    }\n",
       "\n",
       "    .dataframe tbody tr th {\n",
       "        vertical-align: top;\n",
       "    }\n",
       "\n",
       "    .dataframe thead th {\n",
       "        text-align: right;\n",
       "    }\n",
       "</style>\n",
       "<table border=\"1\" class=\"dataframe\">\n",
       "  <thead>\n",
       "    <tr style=\"text-align: right;\">\n",
       "      <th></th>\n",
       "      <th>prop_nulls</th>\n",
       "    </tr>\n",
       "  </thead>\n",
       "  <tbody>\n",
       "    <tr>\n",
       "      <th>date</th>\n",
       "      <td>0.00</td>\n",
       "    </tr>\n",
       "    <tr>\n",
       "      <th>pm2.5</th>\n",
       "      <td>2.42</td>\n",
       "    </tr>\n",
       "    <tr>\n",
       "      <th>pm10</th>\n",
       "      <td>5.01</td>\n",
       "    </tr>\n",
       "    <tr>\n",
       "      <th>o3</th>\n",
       "      <td>2.59</td>\n",
       "    </tr>\n",
       "    <tr>\n",
       "      <th>no2</th>\n",
       "      <td>1.87</td>\n",
       "    </tr>\n",
       "    <tr>\n",
       "      <th>so2</th>\n",
       "      <td>30.13</td>\n",
       "    </tr>\n",
       "  </tbody>\n",
       "</table>\n",
       "</div>"
      ],
      "text/plain": [
       "       prop_nulls\n",
       "date         0.00\n",
       "pm2.5        2.42\n",
       "pm10         5.01\n",
       "o3           2.59\n",
       "no2          1.87\n",
       "so2         30.13"
      ]
     },
     "execution_count": 23,
     "metadata": {},
     "output_type": "execute_result"
    }
   ],
   "source": [
    "nulls_df=pd.DataFrame(round(data.isna().sum()/len(data),4)*100)\n",
    "nulls_df=nulls_df.rename(columns={'index':'header',0:'prop_nulls'})\n",
    "nulls_df"
   ]
  },
  {
   "cell_type": "code",
   "execution_count": 24,
   "id": "f7e7cb8d",
   "metadata": {},
   "outputs": [],
   "source": [
    "data=data.drop(['so2'],axis=1)"
   ]
  },
  {
   "cell_type": "code",
   "execution_count": 25,
   "id": "0a09fca9",
   "metadata": {
    "scrolled": true
   },
   "outputs": [
    {
     "data": {
      "text/html": [
       "<div>\n",
       "<style scoped>\n",
       "    .dataframe tbody tr th:only-of-type {\n",
       "        vertical-align: middle;\n",
       "    }\n",
       "\n",
       "    .dataframe tbody tr th {\n",
       "        vertical-align: top;\n",
       "    }\n",
       "\n",
       "    .dataframe thead th {\n",
       "        text-align: right;\n",
       "    }\n",
       "</style>\n",
       "<table border=\"1\" class=\"dataframe\">\n",
       "  <thead>\n",
       "    <tr style=\"text-align: right;\">\n",
       "      <th></th>\n",
       "      <th>prop_nulls</th>\n",
       "    </tr>\n",
       "  </thead>\n",
       "  <tbody>\n",
       "    <tr>\n",
       "      <th>date</th>\n",
       "      <td>0.00</td>\n",
       "    </tr>\n",
       "    <tr>\n",
       "      <th>pm2.5</th>\n",
       "      <td>2.42</td>\n",
       "    </tr>\n",
       "    <tr>\n",
       "      <th>pm10</th>\n",
       "      <td>5.01</td>\n",
       "    </tr>\n",
       "    <tr>\n",
       "      <th>o3</th>\n",
       "      <td>2.59</td>\n",
       "    </tr>\n",
       "    <tr>\n",
       "      <th>no2</th>\n",
       "      <td>1.87</td>\n",
       "    </tr>\n",
       "  </tbody>\n",
       "</table>\n",
       "</div>"
      ],
      "text/plain": [
       "       prop_nulls\n",
       "date         0.00\n",
       "pm2.5        2.42\n",
       "pm10         5.01\n",
       "o3           2.59\n",
       "no2          1.87"
      ]
     },
     "execution_count": 25,
     "metadata": {},
     "output_type": "execute_result"
    }
   ],
   "source": [
    "nulls_df=pd.DataFrame(round(data.isna().sum()/len(data),4)*100)\n",
    "nulls_df=nulls_df.rename(columns={'index':'header',0:'prop_nulls'})\n",
    "nulls_df"
   ]
  },
  {
   "cell_type": "code",
   "execution_count": 26,
   "id": "d8139e99",
   "metadata": {},
   "outputs": [],
   "source": [
    "import time \n",
    "from datetime import date "
   ]
  },
  {
   "cell_type": "code",
   "execution_count": 27,
   "id": "110edd8b",
   "metadata": {
    "scrolled": true
   },
   "outputs": [
    {
     "name": "stdout",
     "output_type": "stream",
     "text": [
      "<class 'pandas.core.frame.DataFrame'>\n",
      "RangeIndex: 2934 entries, 0 to 2933\n",
      "Data columns (total 5 columns):\n",
      " #   Column  Non-Null Count  Dtype         \n",
      "---  ------  --------------  -----         \n",
      " 0   date    2934 non-null   datetime64[ns]\n",
      " 1   pm2.5   2863 non-null   float64       \n",
      " 2   pm10    2787 non-null   float64       \n",
      " 3   o3      2858 non-null   float64       \n",
      " 4   no2     2879 non-null   float64       \n",
      "dtypes: datetime64[ns](1), float64(4)\n",
      "memory usage: 114.7 KB\n"
     ]
    }
   ],
   "source": [
    "data['date']=pd.to_datetime(data['date'],errors='coerce')\n",
    "data.info()"
   ]
  },
  {
   "cell_type": "code",
   "execution_count": 28,
   "id": "65d20d5d",
   "metadata": {
    "scrolled": true
   },
   "outputs": [
    {
     "data": {
      "text/html": [
       "<div>\n",
       "<style scoped>\n",
       "    .dataframe tbody tr th:only-of-type {\n",
       "        vertical-align: middle;\n",
       "    }\n",
       "\n",
       "    .dataframe tbody tr th {\n",
       "        vertical-align: top;\n",
       "    }\n",
       "\n",
       "    .dataframe thead th {\n",
       "        text-align: right;\n",
       "    }\n",
       "</style>\n",
       "<table border=\"1\" class=\"dataframe\">\n",
       "  <thead>\n",
       "    <tr style=\"text-align: right;\">\n",
       "      <th></th>\n",
       "      <th>date</th>\n",
       "      <th>pm2.5</th>\n",
       "      <th>pm10</th>\n",
       "      <th>o3</th>\n",
       "      <th>no2</th>\n",
       "    </tr>\n",
       "  </thead>\n",
       "  <tbody>\n",
       "    <tr>\n",
       "      <th>0</th>\n",
       "      <td>2022-01-03</td>\n",
       "      <td>44.0</td>\n",
       "      <td>13.0</td>\n",
       "      <td>20.0</td>\n",
       "      <td>20.0</td>\n",
       "    </tr>\n",
       "    <tr>\n",
       "      <th>1</th>\n",
       "      <td>2022-01-04</td>\n",
       "      <td>35.0</td>\n",
       "      <td>15.0</td>\n",
       "      <td>12.0</td>\n",
       "      <td>28.0</td>\n",
       "    </tr>\n",
       "    <tr>\n",
       "      <th>2</th>\n",
       "      <td>2022-01-05</td>\n",
       "      <td>43.0</td>\n",
       "      <td>18.0</td>\n",
       "      <td>26.0</td>\n",
       "      <td>20.0</td>\n",
       "    </tr>\n",
       "    <tr>\n",
       "      <th>3</th>\n",
       "      <td>2022-01-06</td>\n",
       "      <td>51.0</td>\n",
       "      <td>12.0</td>\n",
       "      <td>26.0</td>\n",
       "      <td>16.0</td>\n",
       "    </tr>\n",
       "    <tr>\n",
       "      <th>4</th>\n",
       "      <td>2022-01-07</td>\n",
       "      <td>38.0</td>\n",
       "      <td>13.0</td>\n",
       "      <td>23.0</td>\n",
       "      <td>15.0</td>\n",
       "    </tr>\n",
       "    <tr>\n",
       "      <th>...</th>\n",
       "      <td>...</td>\n",
       "      <td>...</td>\n",
       "      <td>...</td>\n",
       "      <td>...</td>\n",
       "      <td>...</td>\n",
       "    </tr>\n",
       "    <tr>\n",
       "      <th>2929</th>\n",
       "      <td>2014-03-07</td>\n",
       "      <td>NaN</td>\n",
       "      <td>NaN</td>\n",
       "      <td>24.0</td>\n",
       "      <td>21.0</td>\n",
       "    </tr>\n",
       "    <tr>\n",
       "      <th>2930</th>\n",
       "      <td>2014-03-08</td>\n",
       "      <td>NaN</td>\n",
       "      <td>NaN</td>\n",
       "      <td>28.0</td>\n",
       "      <td>25.0</td>\n",
       "    </tr>\n",
       "    <tr>\n",
       "      <th>2931</th>\n",
       "      <td>2020-09-26</td>\n",
       "      <td>NaN</td>\n",
       "      <td>NaN</td>\n",
       "      <td>NaN</td>\n",
       "      <td>NaN</td>\n",
       "    </tr>\n",
       "    <tr>\n",
       "      <th>2932</th>\n",
       "      <td>2020-09-27</td>\n",
       "      <td>NaN</td>\n",
       "      <td>NaN</td>\n",
       "      <td>NaN</td>\n",
       "      <td>NaN</td>\n",
       "    </tr>\n",
       "    <tr>\n",
       "      <th>2933</th>\n",
       "      <td>2020-09-28</td>\n",
       "      <td>NaN</td>\n",
       "      <td>NaN</td>\n",
       "      <td>NaN</td>\n",
       "      <td>NaN</td>\n",
       "    </tr>\n",
       "  </tbody>\n",
       "</table>\n",
       "<p>2934 rows × 5 columns</p>\n",
       "</div>"
      ],
      "text/plain": [
       "           date  pm2.5  pm10    o3   no2\n",
       "0    2022-01-03   44.0  13.0  20.0  20.0\n",
       "1    2022-01-04   35.0  15.0  12.0  28.0\n",
       "2    2022-01-05   43.0  18.0  26.0  20.0\n",
       "3    2022-01-06   51.0  12.0  26.0  16.0\n",
       "4    2022-01-07   38.0  13.0  23.0  15.0\n",
       "...         ...    ...   ...   ...   ...\n",
       "2929 2014-03-07    NaN   NaN  24.0  21.0\n",
       "2930 2014-03-08    NaN   NaN  28.0  25.0\n",
       "2931 2020-09-26    NaN   NaN   NaN   NaN\n",
       "2932 2020-09-27    NaN   NaN   NaN   NaN\n",
       "2933 2020-09-28    NaN   NaN   NaN   NaN\n",
       "\n",
       "[2934 rows x 5 columns]"
      ]
     },
     "execution_count": 28,
     "metadata": {},
     "output_type": "execute_result"
    }
   ],
   "source": [
    "data"
   ]
  },
  {
   "cell_type": "code",
   "execution_count": null,
   "id": "4f8013b9",
   "metadata": {},
   "outputs": [],
   "source": []
  },
  {
   "cell_type": "markdown",
   "id": "6eb33558",
   "metadata": {},
   "source": [
    "## What is the format of the data you have found?"
   ]
  },
  {
   "cell_type": "code",
   "execution_count": 29,
   "id": "5d90d712",
   "metadata": {},
   "outputs": [],
   "source": [
    "#All fields were categorical and has been changed to a numerical data type."
   ]
  },
  {
   "cell_type": "markdown",
   "id": "80db3a1c",
   "metadata": {},
   "source": [
    "## Will the data need cleaning?"
   ]
  },
  {
   "cell_type": "code",
   "execution_count": 30,
   "id": "0afb53d1",
   "metadata": {},
   "outputs": [],
   "source": [
    "#Yes, there are a few null values in some columns, specially in the CO, so we have dropped that column."
   ]
  },
  {
   "cell_type": "markdown",
   "id": "75c91095",
   "metadata": {},
   "source": [
    "## Can I feasibly join this data with other sources of data I have collected?"
   ]
  },
  {
   "cell_type": "code",
   "execution_count": null,
   "id": "74c6653e",
   "metadata": {},
   "outputs": [],
   "source": []
  },
  {
   "cell_type": "markdown",
   "id": "82b9abaf",
   "metadata": {},
   "source": [
    "## How reliable is the data source?"
   ]
  },
  {
   "cell_type": "code",
   "execution_count": null,
   "id": "985e7b76",
   "metadata": {},
   "outputs": [],
   "source": []
  },
  {
   "cell_type": "markdown",
   "id": "fb0a5dec",
   "metadata": {},
   "source": [
    "## What data questions can I really answer with this data?"
   ]
  },
  {
   "cell_type": "code",
   "execution_count": null,
   "id": "716e2b8a",
   "metadata": {},
   "outputs": [],
   "source": []
  },
  {
   "cell_type": "markdown",
   "id": "b379ee0b",
   "metadata": {},
   "source": [
    "## What recommendations or insights could I try to capture with this data?"
   ]
  },
  {
   "cell_type": "code",
   "execution_count": null,
   "id": "5815bb01",
   "metadata": {},
   "outputs": [],
   "source": []
  },
  {
   "cell_type": "markdown",
   "id": "1f008d6c",
   "metadata": {},
   "source": [
    "## What actions can be taken off the back of any data analysis using this data?"
   ]
  },
  {
   "cell_type": "code",
   "execution_count": null,
   "id": "a438e50c",
   "metadata": {},
   "outputs": [],
   "source": []
  }
 ],
 "metadata": {
  "kernelspec": {
   "display_name": "Python 3 (ipykernel)",
   "language": "python",
   "name": "python3"
  },
  "language_info": {
   "codemirror_mode": {
    "name": "ipython",
    "version": 3
   },
   "file_extension": ".py",
   "mimetype": "text/x-python",
   "name": "python",
   "nbconvert_exporter": "python",
   "pygments_lexer": "ipython3",
   "version": "3.9.7"
  },
  "toc": {
   "base_numbering": 1,
   "nav_menu": {},
   "number_sections": true,
   "sideBar": true,
   "skip_h1_title": false,
   "title_cell": "Table of Contents",
   "title_sidebar": "Contents",
   "toc_cell": false,
   "toc_position": {},
   "toc_section_display": true,
   "toc_window_display": false
  }
 },
 "nbformat": 4,
 "nbformat_minor": 5
}
