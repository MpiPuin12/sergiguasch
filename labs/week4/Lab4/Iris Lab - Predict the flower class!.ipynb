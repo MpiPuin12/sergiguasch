{
 "cells": [
  {
   "cell_type": "markdown",
   "id": "a7cff615",
   "metadata": {},
   "source": [
    "# Import the dataset iris_dirty.csv from this repo into a Pandas dataframe. Check the Pandas documentation of read_csv() and use the column names sepal_length, sepal_width, petal_length, petal_width and class when you read in the data."
   ]
  },
  {
   "cell_type": "code",
   "execution_count": 1,
   "id": "ca0deb94",
   "metadata": {},
   "outputs": [],
   "source": [
    "import pandas as pd \n",
    "import numpy as np\n",
    "import matplotlib.pyplot as plt \n",
    "%matplotlib inline\n",
    "import seaborn as sns\n",
    "from sklearn.linear_model import LogisticRegression\n",
    "from sklearn.model_selection import train_test_split\n",
    "from sklearn.metrics import accuracy_score\n",
    "from sklearn.preprocessing import RobustScaler\n",
    "import warnings\n",
    "warnings.filterwarnings(\"ignore\")"
   ]
  },
  {
   "cell_type": "code",
   "execution_count": 2,
   "id": "f6ad1d94",
   "metadata": {},
   "outputs": [],
   "source": [
    "df=pd.read_csv('iris_dirty.csv',names=['sepal_length', 'sepal_width', 'petal_length', 'petal_width', 'class'])"
   ]
  },
  {
   "cell_type": "code",
   "execution_count": 3,
   "id": "f0d8ad7d",
   "metadata": {
    "scrolled": true
   },
   "outputs": [
    {
     "data": {
      "text/html": [
       "<div>\n",
       "<style scoped>\n",
       "    .dataframe tbody tr th:only-of-type {\n",
       "        vertical-align: middle;\n",
       "    }\n",
       "\n",
       "    .dataframe tbody tr th {\n",
       "        vertical-align: top;\n",
       "    }\n",
       "\n",
       "    .dataframe thead th {\n",
       "        text-align: right;\n",
       "    }\n",
       "</style>\n",
       "<table border=\"1\" class=\"dataframe\">\n",
       "  <thead>\n",
       "    <tr style=\"text-align: right;\">\n",
       "      <th></th>\n",
       "      <th>sepal_length</th>\n",
       "      <th>sepal_width</th>\n",
       "      <th>petal_length</th>\n",
       "      <th>petal_width</th>\n",
       "      <th>class</th>\n",
       "    </tr>\n",
       "  </thead>\n",
       "  <tbody>\n",
       "    <tr>\n",
       "      <th>0</th>\n",
       "      <td>5.1</td>\n",
       "      <td>3.5</td>\n",
       "      <td>1.4</td>\n",
       "      <td>2 mm</td>\n",
       "      <td>Iris-setosa</td>\n",
       "    </tr>\n",
       "    <tr>\n",
       "      <th>1</th>\n",
       "      <td>4.9</td>\n",
       "      <td>3.0</td>\n",
       "      <td>1.4</td>\n",
       "      <td>2 mm</td>\n",
       "      <td>Iris-setosa</td>\n",
       "    </tr>\n",
       "    <tr>\n",
       "      <th>2</th>\n",
       "      <td>4.7</td>\n",
       "      <td>3.2</td>\n",
       "      <td>1.3</td>\n",
       "      <td>2 mm</td>\n",
       "      <td>Iris-setosa</td>\n",
       "    </tr>\n",
       "    <tr>\n",
       "      <th>3</th>\n",
       "      <td>4.6</td>\n",
       "      <td>3.1</td>\n",
       "      <td>1.5</td>\n",
       "      <td>2 mm</td>\n",
       "      <td>Iris-setosa</td>\n",
       "    </tr>\n",
       "    <tr>\n",
       "      <th>4</th>\n",
       "      <td>5.0</td>\n",
       "      <td>3.6</td>\n",
       "      <td>1.4</td>\n",
       "      <td>2 mm</td>\n",
       "      <td>Iris-setosa</td>\n",
       "    </tr>\n",
       "    <tr>\n",
       "      <th>...</th>\n",
       "      <td>...</td>\n",
       "      <td>...</td>\n",
       "      <td>...</td>\n",
       "      <td>...</td>\n",
       "      <td>...</td>\n",
       "    </tr>\n",
       "    <tr>\n",
       "      <th>146</th>\n",
       "      <td>6.7</td>\n",
       "      <td>3.0</td>\n",
       "      <td>5.2</td>\n",
       "      <td>23 mm</td>\n",
       "      <td>Iris-virginica</td>\n",
       "    </tr>\n",
       "    <tr>\n",
       "      <th>147</th>\n",
       "      <td>6.3</td>\n",
       "      <td>2.5</td>\n",
       "      <td>5.0</td>\n",
       "      <td>19 mm</td>\n",
       "      <td>Iris-virginica</td>\n",
       "    </tr>\n",
       "    <tr>\n",
       "      <th>148</th>\n",
       "      <td>6.5</td>\n",
       "      <td>3.0</td>\n",
       "      <td>5.2</td>\n",
       "      <td>20 mm</td>\n",
       "      <td>Iris-virginica</td>\n",
       "    </tr>\n",
       "    <tr>\n",
       "      <th>149</th>\n",
       "      <td>6.2</td>\n",
       "      <td>3.4</td>\n",
       "      <td>5.4</td>\n",
       "      <td>23 mm</td>\n",
       "      <td>Iris-virginica</td>\n",
       "    </tr>\n",
       "    <tr>\n",
       "      <th>150</th>\n",
       "      <td>5.9</td>\n",
       "      <td>3.0</td>\n",
       "      <td>5.1</td>\n",
       "      <td>18 mm</td>\n",
       "      <td>Iris-virginica</td>\n",
       "    </tr>\n",
       "  </tbody>\n",
       "</table>\n",
       "<p>151 rows × 5 columns</p>\n",
       "</div>"
      ],
      "text/plain": [
       "     sepal_length  sepal_width  petal_length petal_width           class\n",
       "0             5.1          3.5           1.4        2 mm     Iris-setosa\n",
       "1             4.9          3.0           1.4        2 mm     Iris-setosa\n",
       "2             4.7          3.2           1.3        2 mm     Iris-setosa\n",
       "3             4.6          3.1           1.5        2 mm     Iris-setosa\n",
       "4             5.0          3.6           1.4        2 mm     Iris-setosa\n",
       "..            ...          ...           ...         ...             ...\n",
       "146           6.7          3.0           5.2       23 mm  Iris-virginica\n",
       "147           6.3          2.5           5.0       19 mm  Iris-virginica\n",
       "148           6.5          3.0           5.2       20 mm  Iris-virginica\n",
       "149           6.2          3.4           5.4       23 mm  Iris-virginica\n",
       "150           5.9          3.0           5.1       18 mm  Iris-virginica\n",
       "\n",
       "[151 rows x 5 columns]"
      ]
     },
     "execution_count": 3,
     "metadata": {},
     "output_type": "execute_result"
    }
   ],
   "source": [
    "df"
   ]
  },
  {
   "cell_type": "code",
   "execution_count": 4,
   "id": "bd53d2c3",
   "metadata": {},
   "outputs": [
    {
     "name": "stdout",
     "output_type": "stream",
     "text": [
      "<class 'pandas.core.frame.DataFrame'>\n",
      "RangeIndex: 151 entries, 0 to 150\n",
      "Data columns (total 5 columns):\n",
      " #   Column        Non-Null Count  Dtype  \n",
      "---  ------        --------------  -----  \n",
      " 0   sepal_length  151 non-null    float64\n",
      " 1   sepal_width   150 non-null    float64\n",
      " 2   petal_length  151 non-null    float64\n",
      " 3   petal_width   151 non-null    object \n",
      " 4   class         151 non-null    object \n",
      "dtypes: float64(3), object(2)\n",
      "memory usage: 6.0+ KB\n"
     ]
    }
   ],
   "source": [
    "df.info()"
   ]
  },
  {
   "cell_type": "code",
   "execution_count": 5,
   "id": "d04b1447",
   "metadata": {},
   "outputs": [
    {
     "data": {
      "text/html": [
       "<div>\n",
       "<style scoped>\n",
       "    .dataframe tbody tr th:only-of-type {\n",
       "        vertical-align: middle;\n",
       "    }\n",
       "\n",
       "    .dataframe tbody tr th {\n",
       "        vertical-align: top;\n",
       "    }\n",
       "\n",
       "    .dataframe thead th {\n",
       "        text-align: right;\n",
       "    }\n",
       "</style>\n",
       "<table border=\"1\" class=\"dataframe\">\n",
       "  <thead>\n",
       "    <tr style=\"text-align: right;\">\n",
       "      <th></th>\n",
       "      <th>sepal_length</th>\n",
       "      <th>sepal_width</th>\n",
       "      <th>petal_length</th>\n",
       "      <th>petal_width</th>\n",
       "      <th>class</th>\n",
       "    </tr>\n",
       "  </thead>\n",
       "  <tbody>\n",
       "    <tr>\n",
       "      <th>0</th>\n",
       "      <td>5.1</td>\n",
       "      <td>3.5</td>\n",
       "      <td>1.4</td>\n",
       "      <td>2 mm</td>\n",
       "      <td>Iris-setosa</td>\n",
       "    </tr>\n",
       "    <tr>\n",
       "      <th>1</th>\n",
       "      <td>4.9</td>\n",
       "      <td>3.0</td>\n",
       "      <td>1.4</td>\n",
       "      <td>2 mm</td>\n",
       "      <td>Iris-setosa</td>\n",
       "    </tr>\n",
       "    <tr>\n",
       "      <th>2</th>\n",
       "      <td>4.7</td>\n",
       "      <td>3.2</td>\n",
       "      <td>1.3</td>\n",
       "      <td>2 mm</td>\n",
       "      <td>Iris-setosa</td>\n",
       "    </tr>\n",
       "    <tr>\n",
       "      <th>3</th>\n",
       "      <td>4.6</td>\n",
       "      <td>3.1</td>\n",
       "      <td>1.5</td>\n",
       "      <td>2 mm</td>\n",
       "      <td>Iris-setosa</td>\n",
       "    </tr>\n",
       "    <tr>\n",
       "      <th>4</th>\n",
       "      <td>5.0</td>\n",
       "      <td>3.6</td>\n",
       "      <td>1.4</td>\n",
       "      <td>2 mm</td>\n",
       "      <td>Iris-setosa</td>\n",
       "    </tr>\n",
       "    <tr>\n",
       "      <th>...</th>\n",
       "      <td>...</td>\n",
       "      <td>...</td>\n",
       "      <td>...</td>\n",
       "      <td>...</td>\n",
       "      <td>...</td>\n",
       "    </tr>\n",
       "    <tr>\n",
       "      <th>146</th>\n",
       "      <td>6.7</td>\n",
       "      <td>3.0</td>\n",
       "      <td>5.2</td>\n",
       "      <td>23 mm</td>\n",
       "      <td>Iris-virginica</td>\n",
       "    </tr>\n",
       "    <tr>\n",
       "      <th>147</th>\n",
       "      <td>6.3</td>\n",
       "      <td>2.5</td>\n",
       "      <td>5.0</td>\n",
       "      <td>19 mm</td>\n",
       "      <td>Iris-virginica</td>\n",
       "    </tr>\n",
       "    <tr>\n",
       "      <th>148</th>\n",
       "      <td>6.5</td>\n",
       "      <td>3.0</td>\n",
       "      <td>5.2</td>\n",
       "      <td>20 mm</td>\n",
       "      <td>Iris-virginica</td>\n",
       "    </tr>\n",
       "    <tr>\n",
       "      <th>149</th>\n",
       "      <td>6.2</td>\n",
       "      <td>3.4</td>\n",
       "      <td>5.4</td>\n",
       "      <td>23 mm</td>\n",
       "      <td>Iris-virginica</td>\n",
       "    </tr>\n",
       "    <tr>\n",
       "      <th>150</th>\n",
       "      <td>5.9</td>\n",
       "      <td>3.0</td>\n",
       "      <td>5.1</td>\n",
       "      <td>18 mm</td>\n",
       "      <td>Iris-virginica</td>\n",
       "    </tr>\n",
       "  </tbody>\n",
       "</table>\n",
       "<p>151 rows × 5 columns</p>\n",
       "</div>"
      ],
      "text/plain": [
       "     sepal_length  sepal_width  petal_length petal_width           class\n",
       "0             5.1          3.5           1.4        2 mm     Iris-setosa\n",
       "1             4.9          3.0           1.4        2 mm     Iris-setosa\n",
       "2             4.7          3.2           1.3        2 mm     Iris-setosa\n",
       "3             4.6          3.1           1.5        2 mm     Iris-setosa\n",
       "4             5.0          3.6           1.4        2 mm     Iris-setosa\n",
       "..            ...          ...           ...         ...             ...\n",
       "146           6.7          3.0           5.2       23 mm  Iris-virginica\n",
       "147           6.3          2.5           5.0       19 mm  Iris-virginica\n",
       "148           6.5          3.0           5.2       20 mm  Iris-virginica\n",
       "149           6.2          3.4           5.4       23 mm  Iris-virginica\n",
       "150           5.9          3.0           5.1       18 mm  Iris-virginica\n",
       "\n",
       "[151 rows x 5 columns]"
      ]
     },
     "execution_count": 5,
     "metadata": {},
     "output_type": "execute_result"
    }
   ],
   "source": [
    "df"
   ]
  },
  {
   "cell_type": "markdown",
   "id": "3cb1b98d",
   "metadata": {},
   "source": [
    "# Explore the data with the known Pandas functions head(), info(), describe(), count(), value_counts() (for all columns). Watch for missing values, duplicates, spelling errors, non-uniform units, columns with datatypes they shouldn't have etc."
   ]
  },
  {
   "cell_type": "code",
   "execution_count": 6,
   "id": "122d6a9a",
   "metadata": {},
   "outputs": [
    {
     "data": {
      "text/plain": [
       "(0    5.1\n",
       " 1    4.9\n",
       " 2    4.7\n",
       " 3    4.6\n",
       " 4    5.0\n",
       " Name: sepal_length, dtype: float64,\n",
       " 0    3.5\n",
       " 1    3.0\n",
       " 2    3.2\n",
       " 3    3.1\n",
       " 4    3.6\n",
       " Name: sepal_width, dtype: float64,\n",
       " 0    1.4\n",
       " 1    1.4\n",
       " 2    1.3\n",
       " 3    1.5\n",
       " 4    1.4\n",
       " Name: petal_length, dtype: float64,\n",
       " 0    2 mm\n",
       " 1    2 mm\n",
       " 2    2 mm\n",
       " 3    2 mm\n",
       " 4    2 mm\n",
       " Name: petal_width, dtype: object,\n",
       " 0    Iris-setosa\n",
       " 1    Iris-setosa\n",
       " 2    Iris-setosa\n",
       " 3    Iris-setosa\n",
       " 4    Iris-setosa\n",
       " Name: class, dtype: object)"
      ]
     },
     "execution_count": 6,
     "metadata": {},
     "output_type": "execute_result"
    }
   ],
   "source": [
    "df['sepal_length'].head(),df['sepal_width'].head(),df['petal_length'].head(),df['petal_width'].head(),df['class'].head()"
   ]
  },
  {
   "cell_type": "code",
   "execution_count": 7,
   "id": "704c9e9a",
   "metadata": {},
   "outputs": [
    {
     "name": "stdout",
     "output_type": "stream",
     "text": [
      "<class 'pandas.core.frame.DataFrame'>\n",
      "RangeIndex: 151 entries, 0 to 150\n",
      "Data columns (total 5 columns):\n",
      " #   Column        Non-Null Count  Dtype  \n",
      "---  ------        --------------  -----  \n",
      " 0   sepal_length  151 non-null    float64\n",
      " 1   sepal_width   150 non-null    float64\n",
      " 2   petal_length  151 non-null    float64\n",
      " 3   petal_width   151 non-null    object \n",
      " 4   class         151 non-null    object \n",
      "dtypes: float64(3), object(2)\n",
      "memory usage: 6.0+ KB\n",
      "<class 'pandas.core.frame.DataFrame'>\n",
      "RangeIndex: 151 entries, 0 to 150\n",
      "Data columns (total 5 columns):\n",
      " #   Column        Non-Null Count  Dtype  \n",
      "---  ------        --------------  -----  \n",
      " 0   sepal_length  151 non-null    float64\n",
      " 1   sepal_width   150 non-null    float64\n",
      " 2   petal_length  151 non-null    float64\n",
      " 3   petal_width   151 non-null    object \n",
      " 4   class         151 non-null    object \n",
      "dtypes: float64(3), object(2)\n",
      "memory usage: 6.0+ KB\n",
      "<class 'pandas.core.frame.DataFrame'>\n",
      "RangeIndex: 151 entries, 0 to 150\n",
      "Data columns (total 5 columns):\n",
      " #   Column        Non-Null Count  Dtype  \n",
      "---  ------        --------------  -----  \n",
      " 0   sepal_length  151 non-null    float64\n",
      " 1   sepal_width   150 non-null    float64\n",
      " 2   petal_length  151 non-null    float64\n",
      " 3   petal_width   151 non-null    object \n",
      " 4   class         151 non-null    object \n",
      "dtypes: float64(3), object(2)\n",
      "memory usage: 6.0+ KB\n",
      "<class 'pandas.core.frame.DataFrame'>\n",
      "RangeIndex: 151 entries, 0 to 150\n",
      "Data columns (total 5 columns):\n",
      " #   Column        Non-Null Count  Dtype  \n",
      "---  ------        --------------  -----  \n",
      " 0   sepal_length  151 non-null    float64\n",
      " 1   sepal_width   150 non-null    float64\n",
      " 2   petal_length  151 non-null    float64\n",
      " 3   petal_width   151 non-null    object \n",
      " 4   class         151 non-null    object \n",
      "dtypes: float64(3), object(2)\n",
      "memory usage: 6.0+ KB\n",
      "<class 'pandas.core.frame.DataFrame'>\n",
      "RangeIndex: 151 entries, 0 to 150\n",
      "Data columns (total 5 columns):\n",
      " #   Column        Non-Null Count  Dtype  \n",
      "---  ------        --------------  -----  \n",
      " 0   sepal_length  151 non-null    float64\n",
      " 1   sepal_width   150 non-null    float64\n",
      " 2   petal_length  151 non-null    float64\n",
      " 3   petal_width   151 non-null    object \n",
      " 4   class         151 non-null    object \n",
      "dtypes: float64(3), object(2)\n",
      "memory usage: 6.0+ KB\n"
     ]
    },
    {
     "data": {
      "text/plain": [
       "(None, None, None, None, None)"
      ]
     },
     "execution_count": 7,
     "metadata": {},
     "output_type": "execute_result"
    }
   ],
   "source": [
    "df.info(['sepal_length']),df.info(['sepal_width']),df.info(['petal_length']),df.info(['petal_width']),df.info(['class'])"
   ]
  },
  {
   "cell_type": "code",
   "execution_count": 8,
   "id": "edd49a35",
   "metadata": {
    "scrolled": false
   },
   "outputs": [
    {
     "data": {
      "text/plain": [
       "(count    151.000000\n",
       " mean       6.196689\n",
       " std        4.324325\n",
       " min        4.300000\n",
       " 25%        5.100000\n",
       " 50%        5.800000\n",
       " 75%        6.400000\n",
       " max       58.000000\n",
       " Name: sepal_length, dtype: float64,\n",
       " count    150.000000\n",
       " mean       3.057333\n",
       " std        0.432776\n",
       " min        2.000000\n",
       " 25%        2.800000\n",
       " 50%        3.000000\n",
       " 75%        3.300000\n",
       " max        4.400000\n",
       " Name: sepal_width, dtype: float64,\n",
       " count    151.000000\n",
       " mean       3.764901\n",
       " std        1.760197\n",
       " min        1.000000\n",
       " 25%        1.600000\n",
       " 50%        4.400000\n",
       " 75%        5.100000\n",
       " max        6.900000\n",
       " Name: petal_length, dtype: float64,\n",
       " count      151\n",
       " unique      22\n",
       " top       2 mm\n",
       " freq        28\n",
       " Name: petal_width, dtype: object,\n",
       " count                 151\n",
       " unique                  4\n",
       " top       Iris-versicolor\n",
       " freq                   51\n",
       " Name: class, dtype: object)"
      ]
     },
     "execution_count": 8,
     "metadata": {},
     "output_type": "execute_result"
    }
   ],
   "source": [
    "df['sepal_length'].describe(),df['sepal_width'].describe(),df['petal_length'].describe(),df['petal_width'].describe(),df['class'].describe()"
   ]
  },
  {
   "cell_type": "code",
   "execution_count": 9,
   "id": "b16c7234",
   "metadata": {},
   "outputs": [
    {
     "data": {
      "text/plain": [
       "(151, 150, 151, 151, 151)"
      ]
     },
     "execution_count": 9,
     "metadata": {},
     "output_type": "execute_result"
    }
   ],
   "source": [
    "df['sepal_length'].count(),df['sepal_width'].count(),df['petal_length'].count(),df['petal_width'].count(),df['class'].count()"
   ]
  },
  {
   "cell_type": "code",
   "execution_count": 10,
   "id": "3ac04118",
   "metadata": {
    "scrolled": true
   },
   "outputs": [
    {
     "data": {
      "text/plain": [
       "(5.0     10\n",
       " 5.1      9\n",
       " 6.3      9\n",
       " 6.7      8\n",
       " 5.7      8\n",
       " 6.4      7\n",
       " 5.5      7\n",
       " 5.6      6\n",
       " 5.4      6\n",
       " 6.1      6\n",
       " 6.0      6\n",
       " 5.8      6\n",
       " 4.9      6\n",
       " 6.5      5\n",
       " 4.8      5\n",
       " 6.9      4\n",
       " 5.2      4\n",
       " 4.6      4\n",
       " 6.2      4\n",
       " 7.7      4\n",
       " 5.9      3\n",
       " 4.4      3\n",
       " 6.8      3\n",
       " 7.2      3\n",
       " 4.7      2\n",
       " 6.6      2\n",
       " 7.0      2\n",
       " 7.3      1\n",
       " 7.9      1\n",
       " 7.4      1\n",
       " 5.3      1\n",
       " 7.6      1\n",
       " 7.1      1\n",
       " 4.3      1\n",
       " 4.5      1\n",
       " 58.0     1\n",
       " Name: sepal_length, dtype: int64,\n",
       " 3.0    26\n",
       " 3.2    14\n",
       " 2.8    14\n",
       " 3.1    12\n",
       " 3.4    12\n",
       " 2.9    10\n",
       " 2.5     8\n",
       " 2.7     8\n",
       " 3.5     6\n",
       " 3.3     6\n",
       " 3.8     6\n",
       " 2.6     5\n",
       " 2.3     4\n",
       " 3.7     3\n",
       " 2.4     3\n",
       " 2.2     3\n",
       " 3.6     3\n",
       " 3.9     2\n",
       " 4.4     1\n",
       " 4.0     1\n",
       " 4.1     1\n",
       " 4.2     1\n",
       " 2.0     1\n",
       " Name: sepal_width, dtype: int64,\n",
       " 1.5    14\n",
       " 1.4    12\n",
       " 5.1     8\n",
       " 4.5     8\n",
       " 1.6     7\n",
       " 1.3     7\n",
       " 5.6     6\n",
       " 4.7     6\n",
       " 4.9     5\n",
       " 4.0     5\n",
       " 4.2     4\n",
       " 5.0     4\n",
       " 4.4     4\n",
       " 4.8     4\n",
       " 1.7     4\n",
       " 3.9     3\n",
       " 4.6     3\n",
       " 5.7     3\n",
       " 4.1     3\n",
       " 5.5     3\n",
       " 6.1     3\n",
       " 5.8     3\n",
       " 3.3     2\n",
       " 5.4     2\n",
       " 6.7     2\n",
       " 5.3     2\n",
       " 5.9     2\n",
       " 6.0     2\n",
       " 1.2     2\n",
       " 4.3     2\n",
       " 1.9     2\n",
       " 3.5     2\n",
       " 5.2     2\n",
       " 3.0     1\n",
       " 1.1     1\n",
       " 3.7     1\n",
       " 3.8     1\n",
       " 6.6     1\n",
       " 6.3     1\n",
       " 1.0     1\n",
       " 6.9     1\n",
       " 3.6     1\n",
       " 6.4     1\n",
       " Name: petal_length, dtype: int64,\n",
       " 2 mm     28\n",
       " 13 mm    13\n",
       " 18 mm    12\n",
       " 15 mm    12\n",
       " 14 mm     9\n",
       " 23 mm     8\n",
       " 10 mm     7\n",
       " 4 mm      7\n",
       " 3 mm      7\n",
       " 1 mm      6\n",
       " 21 mm     6\n",
       " 20 mm     6\n",
       " 12 mm     5\n",
       " 19 mm     5\n",
       " 16 mm     4\n",
       " 25 mm     3\n",
       " 22 mm     3\n",
       " 24 mm     3\n",
       " 11 mm     3\n",
       " 17 mm     2\n",
       " 6 mm      1\n",
       " 5 mm      1\n",
       " Name: petal_width, dtype: int64,\n",
       " Iris-versicolor    51\n",
       " Iris-virginica     50\n",
       " Iris-setosa        49\n",
       " Iris-setsoa         1\n",
       " Name: class, dtype: int64)"
      ]
     },
     "execution_count": 10,
     "metadata": {},
     "output_type": "execute_result"
    }
   ],
   "source": [
    "df['sepal_length'].value_counts(),df['sepal_width'].value_counts(),df['petal_length'].value_counts(),df['petal_width'].value_counts(),df['class'].value_counts()"
   ]
  },
  {
   "cell_type": "markdown",
   "id": "767053dc",
   "metadata": {},
   "source": [
    "# Substitute missing values with the column mean. Check/remove duplicates. Correct possible spelling errors."
   ]
  },
  {
   "cell_type": "code",
   "execution_count": 11,
   "id": "53a1b5dd",
   "metadata": {},
   "outputs": [],
   "source": [
    "df=df.drop_duplicates()"
   ]
  },
  {
   "cell_type": "code",
   "execution_count": 12,
   "id": "d9883568",
   "metadata": {
    "scrolled": true
   },
   "outputs": [
    {
     "name": "stdout",
     "output_type": "stream",
     "text": [
      "<class 'pandas.core.frame.DataFrame'>\n",
      "Int64Index: 148 entries, 0 to 150\n",
      "Data columns (total 5 columns):\n",
      " #   Column        Non-Null Count  Dtype  \n",
      "---  ------        --------------  -----  \n",
      " 0   sepal_length  148 non-null    float64\n",
      " 1   sepal_width   147 non-null    float64\n",
      " 2   petal_length  148 non-null    float64\n",
      " 3   petal_width   148 non-null    object \n",
      " 4   class         148 non-null    object \n",
      "dtypes: float64(3), object(2)\n",
      "memory usage: 6.9+ KB\n"
     ]
    }
   ],
   "source": [
    "df.info()"
   ]
  },
  {
   "cell_type": "code",
   "execution_count": 13,
   "id": "e490f9e1",
   "metadata": {},
   "outputs": [
    {
     "data": {
      "text/html": [
       "<div>\n",
       "<style scoped>\n",
       "    .dataframe tbody tr th:only-of-type {\n",
       "        vertical-align: middle;\n",
       "    }\n",
       "\n",
       "    .dataframe tbody tr th {\n",
       "        vertical-align: top;\n",
       "    }\n",
       "\n",
       "    .dataframe thead th {\n",
       "        text-align: right;\n",
       "    }\n",
       "</style>\n",
       "<table border=\"1\" class=\"dataframe\">\n",
       "  <thead>\n",
       "    <tr style=\"text-align: right;\">\n",
       "      <th></th>\n",
       "      <th>prop_nulls</th>\n",
       "    </tr>\n",
       "  </thead>\n",
       "  <tbody>\n",
       "    <tr>\n",
       "      <th>sepal_length</th>\n",
       "      <td>0.00</td>\n",
       "    </tr>\n",
       "    <tr>\n",
       "      <th>sepal_width</th>\n",
       "      <td>0.68</td>\n",
       "    </tr>\n",
       "    <tr>\n",
       "      <th>petal_length</th>\n",
       "      <td>0.00</td>\n",
       "    </tr>\n",
       "    <tr>\n",
       "      <th>petal_width</th>\n",
       "      <td>0.00</td>\n",
       "    </tr>\n",
       "    <tr>\n",
       "      <th>class</th>\n",
       "      <td>0.00</td>\n",
       "    </tr>\n",
       "  </tbody>\n",
       "</table>\n",
       "</div>"
      ],
      "text/plain": [
       "              prop_nulls\n",
       "sepal_length        0.00\n",
       "sepal_width         0.68\n",
       "petal_length        0.00\n",
       "petal_width         0.00\n",
       "class               0.00"
      ]
     },
     "execution_count": 13,
     "metadata": {},
     "output_type": "execute_result"
    }
   ],
   "source": [
    "nulls_df=pd.DataFrame(round(df.isna().sum()/len(df),4)*100)\n",
    "nulls_df=nulls_df.rename(columns={'index':'header',0:'prop_nulls'})\n",
    "nulls_df"
   ]
  },
  {
   "cell_type": "code",
   "execution_count": 14,
   "id": "0d3aae95",
   "metadata": {},
   "outputs": [],
   "source": [
    "mean=df['sepal_width'].mean()\n",
    "df['sepal_width']=df['sepal_width'].fillna(mean)"
   ]
  },
  {
   "cell_type": "code",
   "execution_count": 15,
   "id": "c18511e0",
   "metadata": {
    "scrolled": true
   },
   "outputs": [
    {
     "data": {
      "text/html": [
       "<div>\n",
       "<style scoped>\n",
       "    .dataframe tbody tr th:only-of-type {\n",
       "        vertical-align: middle;\n",
       "    }\n",
       "\n",
       "    .dataframe tbody tr th {\n",
       "        vertical-align: top;\n",
       "    }\n",
       "\n",
       "    .dataframe thead th {\n",
       "        text-align: right;\n",
       "    }\n",
       "</style>\n",
       "<table border=\"1\" class=\"dataframe\">\n",
       "  <thead>\n",
       "    <tr style=\"text-align: right;\">\n",
       "      <th></th>\n",
       "      <th>prop_nulls</th>\n",
       "    </tr>\n",
       "  </thead>\n",
       "  <tbody>\n",
       "    <tr>\n",
       "      <th>sepal_length</th>\n",
       "      <td>0.0</td>\n",
       "    </tr>\n",
       "    <tr>\n",
       "      <th>sepal_width</th>\n",
       "      <td>0.0</td>\n",
       "    </tr>\n",
       "    <tr>\n",
       "      <th>petal_length</th>\n",
       "      <td>0.0</td>\n",
       "    </tr>\n",
       "    <tr>\n",
       "      <th>petal_width</th>\n",
       "      <td>0.0</td>\n",
       "    </tr>\n",
       "    <tr>\n",
       "      <th>class</th>\n",
       "      <td>0.0</td>\n",
       "    </tr>\n",
       "  </tbody>\n",
       "</table>\n",
       "</div>"
      ],
      "text/plain": [
       "              prop_nulls\n",
       "sepal_length         0.0\n",
       "sepal_width          0.0\n",
       "petal_length         0.0\n",
       "petal_width          0.0\n",
       "class                0.0"
      ]
     },
     "execution_count": 15,
     "metadata": {},
     "output_type": "execute_result"
    }
   ],
   "source": [
    "nulls_df=pd.DataFrame(round(df.isna().sum()/len(df),4)*100)\n",
    "nulls_df=nulls_df.rename(columns={'index':'header',0:'prop_nulls'})\n",
    "nulls_df"
   ]
  },
  {
   "cell_type": "code",
   "execution_count": 16,
   "id": "feeac012",
   "metadata": {
    "scrolled": false
   },
   "outputs": [
    {
     "name": "stdout",
     "output_type": "stream",
     "text": [
      "<class 'pandas.core.frame.DataFrame'>\n",
      "Int64Index: 148 entries, 0 to 150\n",
      "Data columns (total 5 columns):\n",
      " #   Column        Non-Null Count  Dtype  \n",
      "---  ------        --------------  -----  \n",
      " 0   sepal_length  148 non-null    float64\n",
      " 1   sepal_width   148 non-null    float64\n",
      " 2   petal_length  148 non-null    float64\n",
      " 3   petal_width   148 non-null    object \n",
      " 4   class         148 non-null    object \n",
      "dtypes: float64(3), object(2)\n",
      "memory usage: 6.9+ KB\n"
     ]
    }
   ],
   "source": [
    "df.info()"
   ]
  },
  {
   "cell_type": "code",
   "execution_count": 17,
   "id": "f1861e06",
   "metadata": {
    "scrolled": true
   },
   "outputs": [
    {
     "data": {
      "text/plain": [
       "Iris-versicolor    50\n",
       "Iris-virginica     50\n",
       "Iris-setosa        47\n",
       "Iris-setsoa         1\n",
       "Name: class, dtype: int64"
      ]
     },
     "execution_count": 17,
     "metadata": {},
     "output_type": "execute_result"
    }
   ],
   "source": [
    "df['class'].value_counts()"
   ]
  },
  {
   "cell_type": "code",
   "execution_count": 18,
   "id": "935cb0e1",
   "metadata": {},
   "outputs": [],
   "source": [
    "df['class'] = df['class'].replace({'Iris-setsoa':'Iris-setosa'})"
   ]
  },
  {
   "cell_type": "code",
   "execution_count": 19,
   "id": "e368b371",
   "metadata": {
    "scrolled": true
   },
   "outputs": [
    {
     "data": {
      "text/plain": [
       "Iris-versicolor    50\n",
       "Iris-virginica     50\n",
       "Iris-setosa        48\n",
       "Name: class, dtype: int64"
      ]
     },
     "execution_count": 19,
     "metadata": {},
     "output_type": "execute_result"
    }
   ],
   "source": [
    "df['class'].value_counts()"
   ]
  },
  {
   "cell_type": "markdown",
   "id": "3a1b66af",
   "metadata": {},
   "source": [
    "# Bring all columns to centimeter length. Before, transform any column to numeric if necessary."
   ]
  },
  {
   "cell_type": "code",
   "execution_count": 20,
   "id": "74f90ea4",
   "metadata": {
    "scrolled": false
   },
   "outputs": [
    {
     "data": {
      "text/plain": [
       "0       2 mm\n",
       "1       2 mm\n",
       "2       2 mm\n",
       "3       2 mm\n",
       "4       2 mm\n",
       "       ...  \n",
       "146    23 mm\n",
       "147    19 mm\n",
       "148    20 mm\n",
       "149    23 mm\n",
       "150    18 mm\n",
       "Name: petal_width, Length: 148, dtype: object"
      ]
     },
     "execution_count": 20,
     "metadata": {},
     "output_type": "execute_result"
    }
   ],
   "source": [
    "df['petal_width']"
   ]
  },
  {
   "cell_type": "code",
   "execution_count": 21,
   "id": "eafa487f",
   "metadata": {},
   "outputs": [],
   "source": [
    "df['petal_width'] = df['petal_width'].str.replace(\"mm\",\"\")"
   ]
  },
  {
   "cell_type": "code",
   "execution_count": 22,
   "id": "ec4c20e7",
   "metadata": {},
   "outputs": [
    {
     "data": {
      "text/plain": [
       "0       2 \n",
       "1       2 \n",
       "2       2 \n",
       "3       2 \n",
       "4       2 \n",
       "      ... \n",
       "146    23 \n",
       "147    19 \n",
       "148    20 \n",
       "149    23 \n",
       "150    18 \n",
       "Name: petal_width, Length: 148, dtype: object"
      ]
     },
     "execution_count": 22,
     "metadata": {},
     "output_type": "execute_result"
    }
   ],
   "source": [
    "df['petal_width']"
   ]
  },
  {
   "cell_type": "code",
   "execution_count": 23,
   "id": "94af8e14",
   "metadata": {
    "scrolled": true
   },
   "outputs": [],
   "source": [
    "df['petal_width'] = df['petal_width'].astype(int)"
   ]
  },
  {
   "cell_type": "code",
   "execution_count": 24,
   "id": "f4ab30a5",
   "metadata": {},
   "outputs": [],
   "source": [
    "df['petal_width'] = df['petal_width']/10"
   ]
  },
  {
   "cell_type": "code",
   "execution_count": 25,
   "id": "ea3a3dcb",
   "metadata": {},
   "outputs": [
    {
     "data": {
      "text/plain": [
       "0      0.2\n",
       "1      0.2\n",
       "2      0.2\n",
       "3      0.2\n",
       "4      0.2\n",
       "      ... \n",
       "146    2.3\n",
       "147    1.9\n",
       "148    2.0\n",
       "149    2.3\n",
       "150    1.8\n",
       "Name: petal_width, Length: 148, dtype: float64"
      ]
     },
     "execution_count": 25,
     "metadata": {},
     "output_type": "execute_result"
    }
   ],
   "source": [
    "df['petal_width']"
   ]
  },
  {
   "cell_type": "markdown",
   "id": "d075219c",
   "metadata": {},
   "source": [
    "# Check for outliers with .describe() or means of plotting. Think about the appropriate way to correct for possible outliers and perform that correction."
   ]
  },
  {
   "cell_type": "code",
   "execution_count": 26,
   "id": "e6eb04fe",
   "metadata": {
    "scrolled": true
   },
   "outputs": [
    {
     "data": {
      "text/plain": [
       "(count    148.000000\n",
       " mean       6.208784\n",
       " std        4.365089\n",
       " min        4.300000\n",
       " 25%        5.100000\n",
       " 50%        5.800000\n",
       " 75%        6.400000\n",
       " max       58.000000\n",
       " Name: sepal_length, dtype: float64,\n",
       " count    148.000000\n",
       " mean       3.055782\n",
       " std        0.435520\n",
       " min        2.000000\n",
       " 25%        2.800000\n",
       " 50%        3.000000\n",
       " 75%        3.300000\n",
       " max        4.400000\n",
       " Name: sepal_width, dtype: float64,\n",
       " count    148.000000\n",
       " mean       3.789189\n",
       " std        1.756470\n",
       " min        1.000000\n",
       " 25%        1.600000\n",
       " 50%        4.400000\n",
       " 75%        5.100000\n",
       " max        6.900000\n",
       " Name: petal_length, dtype: float64,\n",
       " count    148.000000\n",
       " mean       1.213514\n",
       " std        0.757426\n",
       " min        0.100000\n",
       " 25%        0.300000\n",
       " 50%        1.300000\n",
       " 75%        1.800000\n",
       " max        2.500000\n",
       " Name: petal_width, dtype: float64,\n",
       " count                 148\n",
       " unique                  3\n",
       " top       Iris-versicolor\n",
       " freq                   50\n",
       " Name: class, dtype: object)"
      ]
     },
     "execution_count": 26,
     "metadata": {},
     "output_type": "execute_result"
    }
   ],
   "source": [
    "df['sepal_length'].describe(),df['sepal_width'].describe(),df['petal_length'].describe(),df['petal_width'].describe(),df['class'].describe()"
   ]
  },
  {
   "cell_type": "code",
   "execution_count": 27,
   "id": "d4514876",
   "metadata": {},
   "outputs": [],
   "source": [
    "# we can see from the describe method that sepal_length has an outlier/s."
   ]
  },
  {
   "cell_type": "code",
   "execution_count": 28,
   "id": "c5081687",
   "metadata": {},
   "outputs": [],
   "source": [
    "X_num=df.select_dtypes(include=np.number)"
   ]
  },
  {
   "cell_type": "code",
   "execution_count": 29,
   "id": "bab193bd",
   "metadata": {
    "scrolled": false
   },
   "outputs": [
    {
     "data": {
      "image/png": "[encoded data removed]",
      "text/plain": [
       "<Figure size 1080x1080 with 8 Axes>"
      ]
     },
     "metadata": {
      "needs_background": "light"
     },
     "output_type": "display_data"
    }
   ],
   "source": [
    "X_num.hist(figsize=(15,15),bins=20,layout=(4,2));"
   ]
  },
  {
   "cell_type": "code",
   "execution_count": 30,
   "id": "984c4e6b",
   "metadata": {
    "scrolled": true
   },
   "outputs": [
    {
     "data": {
      "text/plain": [
       "5.0     10\n",
       "5.1      9\n",
       "6.3      9\n",
       "6.7      8\n",
       "5.7      8\n",
       "5.5      7\n",
       "6.4      7\n",
       "5.6      6\n",
       "5.4      6\n",
       "6.1      6\n",
       "6.0      6\n",
       "5.8      6\n",
       "6.5      5\n",
       "4.8      5\n",
       "4.6      4\n",
       "5.2      4\n",
       "6.9      4\n",
       "4.9      4\n",
       "7.7      4\n",
       "6.2      4\n",
       "5.9      3\n",
       "4.4      3\n",
       "6.8      3\n",
       "7.2      3\n",
       "6.6      2\n",
       "4.7      2\n",
       "7.3      1\n",
       "7.9      1\n",
       "7.4      1\n",
       "4.5      1\n",
       "7.6      1\n",
       "7.1      1\n",
       "5.3      1\n",
       "4.3      1\n",
       "7.0      1\n",
       "58.0     1\n",
       "Name: sepal_length, dtype: int64"
      ]
     },
     "execution_count": 30,
     "metadata": {},
     "output_type": "execute_result"
    }
   ],
   "source": [
    "df['sepal_length'].value_counts()"
   ]
  },
  {
   "cell_type": "code",
   "execution_count": 31,
   "id": "901d9253",
   "metadata": {},
   "outputs": [],
   "source": [
    "# we assume that in the sepal_length column the max value, is an outlier, a typo error. \n",
    "# So we just have to change the number, instead of 58 must be 5.8"
   ]
  },
  {
   "cell_type": "code",
   "execution_count": 32,
   "id": "876d1a36",
   "metadata": {},
   "outputs": [],
   "source": [
    "maxim = max(df['sepal_length'])/10"
   ]
  },
  {
   "cell_type": "code",
   "execution_count": 33,
   "id": "508eee5d",
   "metadata": {},
   "outputs": [],
   "source": [
    "df['sepal_length']=df['sepal_length'].replace(to_replace=58,value=maxim)"
   ]
  },
  {
   "cell_type": "code",
   "execution_count": 34,
   "id": "d3c20897",
   "metadata": {},
   "outputs": [
    {
     "data": {
      "text/plain": [
       "5.0    10\n",
       "5.1     9\n",
       "6.3     9\n",
       "5.7     8\n",
       "6.7     8\n",
       "5.8     7\n",
       "5.5     7\n",
       "6.4     7\n",
       "5.4     6\n",
       "6.1     6\n",
       "6.0     6\n",
       "5.6     6\n",
       "4.8     5\n",
       "6.5     5\n",
       "4.9     4\n",
       "6.2     4\n",
       "7.7     4\n",
       "6.9     4\n",
       "4.6     4\n",
       "5.2     4\n",
       "5.9     3\n",
       "4.4     3\n",
       "7.2     3\n",
       "6.8     3\n",
       "6.6     2\n",
       "4.7     2\n",
       "7.6     1\n",
       "7.4     1\n",
       "7.3     1\n",
       "7.0     1\n",
       "7.1     1\n",
       "5.3     1\n",
       "4.3     1\n",
       "4.5     1\n",
       "7.9     1\n",
       "Name: sepal_length, dtype: int64"
      ]
     },
     "execution_count": 34,
     "metadata": {},
     "output_type": "execute_result"
    }
   ],
   "source": [
    "df['sepal_length'].value_counts()"
   ]
  },
  {
   "cell_type": "code",
   "execution_count": 35,
   "id": "2ab78d27",
   "metadata": {},
   "outputs": [],
   "source": [
    "X_num=df.select_dtypes(include=np.number)"
   ]
  },
  {
   "cell_type": "code",
   "execution_count": 36,
   "id": "0b2be9e0",
   "metadata": {},
   "outputs": [
    {
     "data": {
      "image/png": "[encoded data removed]",
      "text/plain": [
       "<Figure size 1080x1080 with 8 Axes>"
      ]
     },
     "metadata": {
      "needs_background": "light"
     },
     "output_type": "display_data"
    }
   ],
   "source": [
    "X_num.hist(figsize=(15,15),bins=20,layout=(4,2));"
   ]
  },
  {
   "cell_type": "markdown",
   "id": "290ac8ac",
   "metadata": {},
   "source": [
    "# Plot a correlation matrix with a heatmap between the numeric features."
   ]
  },
  {
   "cell_type": "code",
   "execution_count": 37,
   "id": "ae222397",
   "metadata": {
    "scrolled": true
   },
   "outputs": [
    {
     "data": {
      "text/html": [
       "<div>\n",
       "<style scoped>\n",
       "    .dataframe tbody tr th:only-of-type {\n",
       "        vertical-align: middle;\n",
       "    }\n",
       "\n",
       "    .dataframe tbody tr th {\n",
       "        vertical-align: top;\n",
       "    }\n",
       "\n",
       "    .dataframe thead th {\n",
       "        text-align: right;\n",
       "    }\n",
       "</style>\n",
       "<table border=\"1\" class=\"dataframe\">\n",
       "  <thead>\n",
       "    <tr style=\"text-align: right;\">\n",
       "      <th></th>\n",
       "      <th>sepal_length</th>\n",
       "      <th>sepal_width</th>\n",
       "      <th>petal_length</th>\n",
       "      <th>petal_width</th>\n",
       "    </tr>\n",
       "  </thead>\n",
       "  <tbody>\n",
       "    <tr>\n",
       "      <th>sepal_length</th>\n",
       "      <td>1.000000</td>\n",
       "      <td>-0.109319</td>\n",
       "      <td>0.869281</td>\n",
       "      <td>0.814322</td>\n",
       "    </tr>\n",
       "    <tr>\n",
       "      <th>sepal_width</th>\n",
       "      <td>-0.109319</td>\n",
       "      <td>1.000000</td>\n",
       "      <td>-0.424050</td>\n",
       "      <td>-0.360508</td>\n",
       "    </tr>\n",
       "    <tr>\n",
       "      <th>petal_length</th>\n",
       "      <td>0.869281</td>\n",
       "      <td>-0.424050</td>\n",
       "      <td>1.000000</td>\n",
       "      <td>0.961975</td>\n",
       "    </tr>\n",
       "    <tr>\n",
       "      <th>petal_width</th>\n",
       "      <td>0.814322</td>\n",
       "      <td>-0.360508</td>\n",
       "      <td>0.961975</td>\n",
       "      <td>1.000000</td>\n",
       "    </tr>\n",
       "  </tbody>\n",
       "</table>\n",
       "</div>"
      ],
      "text/plain": [
       "              sepal_length  sepal_width  petal_length  petal_width\n",
       "sepal_length      1.000000    -0.109319      0.869281     0.814322\n",
       "sepal_width      -0.109319     1.000000     -0.424050    -0.360508\n",
       "petal_length      0.869281    -0.424050      1.000000     0.961975\n",
       "petal_width       0.814322    -0.360508      0.961975     1.000000"
      ]
     },
     "execution_count": 37,
     "metadata": {},
     "output_type": "execute_result"
    }
   ],
   "source": [
    "corre_matrix=X_num.corr()\n",
    "corre_matrix"
   ]
  },
  {
   "cell_type": "code",
   "execution_count": 38,
   "id": "5861939c",
   "metadata": {},
   "outputs": [
    {
     "data": {
      "image/png": "[encoded data removed]",
      "text/plain": [
       "<Figure size 720x576 with 2 Axes>"
      ]
     },
     "metadata": {
      "needs_background": "light"
     },
     "output_type": "display_data"
    }
   ],
   "source": [
    "mask=np.zeros_like(corre_matrix)\n",
    "mask[np.triu_indices_from(mask)]=True\n",
    "fig,ax = plt.subplots(figsize=(10,8))\n",
    "ax=sns.heatmap(corre_matrix, mask=mask, center=0, cmap=sns.diverging_palette(220, 20, as_cmap=True), annot=True,);"
   ]
  },
  {
   "cell_type": "markdown",
   "id": "affeaf05",
   "metadata": {},
   "source": [
    "# Model the relationship between our features (the four numeric flower metrics) and the label (class) with Logistic Regression using LogisticRegression() from the sklearn.linear_model module. For the purpose of model validation, use the known train-test-split method with a size parameter of 0.3. Calculate the predicted labels, the accuracy score of y_test and y_predicted and plot a confusion matrix of the two."
   ]
  },
  {
   "cell_type": "code",
   "execution_count": 39,
   "id": "cffb5beb",
   "metadata": {
    "scrolled": true
   },
   "outputs": [
    {
     "data": {
      "text/plain": [
       "Iris-versicolor    50\n",
       "Iris-virginica     50\n",
       "Iris-setosa        48\n",
       "Name: class, dtype: int64"
      ]
     },
     "execution_count": 39,
     "metadata": {},
     "output_type": "execute_result"
    }
   ],
   "source": [
    "df['class'].value_counts()"
   ]
  },
  {
   "cell_type": "code",
   "execution_count": 40,
   "id": "ffa86301",
   "metadata": {},
   "outputs": [],
   "source": [
    "y=df['class']"
   ]
  },
  {
   "cell_type": "code",
   "execution_count": 41,
   "id": "c594919c",
   "metadata": {},
   "outputs": [],
   "source": [
    "X_full=df.drop('class',axis=1) \n",
    "# we do not need to scale cause the dispersion between the different values is not too significant.\n",
    "#Nevertheless, using the robustScaler method, the accuracy_score is a lower value, 0.83."
   ]
  },
  {
   "cell_type": "code",
   "execution_count": 42,
   "id": "194531ee",
   "metadata": {},
   "outputs": [],
   "source": [
    "X_train,X_test,y_train,y_test=train_test_split(X_full,y,test_size=0.3,random_state=40)"
   ]
  },
  {
   "cell_type": "code",
   "execution_count": 43,
   "id": "1dd4df07",
   "metadata": {},
   "outputs": [
    {
     "data": {
      "text/plain": [
       "0.9333333333333333"
      ]
     },
     "execution_count": 43,
     "metadata": {},
     "output_type": "execute_result"
    }
   ],
   "source": [
    "classification= LogisticRegression(max_iter=500)\n",
    "classification.fit(X_train,y_train)\n",
    "y_test_pred=classification.predict(X_test)\n",
    "accuracy_score(y_test,y_test_pred)"
   ]
  },
  {
   "cell_type": "code",
   "execution_count": 44,
   "id": "378a3d03",
   "metadata": {},
   "outputs": [
    {
     "data": {
      "text/plain": [
       "<sklearn.metrics._plot.confusion_matrix.ConfusionMatrixDisplay at 0x2156b85a760>"
      ]
     },
     "execution_count": 44,
     "metadata": {},
     "output_type": "execute_result"
    },
    {
     "data": {
      "image/png": "[encoded data removed]",
      "text/plain": [
       "<Figure size 432x288 with 2 Axes>"
      ]
     },
     "metadata": {
      "needs_background": "light"
     },
     "output_type": "display_data"
    }
   ],
   "source": [
    "from sklearn.metrics import confusion_matrix, plot_confusion_matrix\n",
    "confusion_matrix(y_test,y_test_pred)\n",
    "plot_confusion_matrix(classification,X_test, y_test)"
   ]
  },
  {
   "cell_type": "markdown",
   "id": "ed0bfea9",
   "metadata": {},
   "source": [
    "# BONUS: Use all the rows of your data and your trained model to predict the flower classes. Then create pairwise scatterplots between all four features (6 in total) in which you color the dots depending which predicted flower class they belong to. Try to make out distinct clusters in those plots."
   ]
  },
  {
   "cell_type": "code",
   "execution_count": 45,
   "id": "b874093f",
   "metadata": {},
   "outputs": [
    {
     "data": {
      "image/png": "[encoded data removed]",
      "text/plain": [
       "<Figure size 823.25x720 with 10 Axes>"
      ]
     },
     "metadata": {
      "needs_background": "light"
     },
     "output_type": "display_data"
    }
   ],
   "source": [
    "X_full['class']=classification.predict(X_full)\n",
    "sns.pairplot(X_full, hue=\"class\", corner=True, diag_kind='None')\n",
    "plt.show()"
   ]
  },
  {
   "cell_type": "code",
   "execution_count": null,
   "id": "320a13d5",
   "metadata": {},
   "outputs": [],
   "source": []
  }
 ],
 "metadata": {
  "kernelspec": {
   "display_name": "Python 3 (ipykernel)",
   "language": "python",
   "name": "python3"
  },
  "language_info": {
   "codemirror_mode": {
    "name": "ipython",
    "version": 3
   },
   "file_extension": ".py",
   "mimetype": "text/x-python",
   "name": "python",
   "nbconvert_exporter": "python",
   "pygments_lexer": "ipython3",
   "version": "3.9.7"
  },
  "toc": {
   "base_numbering": 1,
   "nav_menu": {},
   "number_sections": true,
   "sideBar": true,
   "skip_h1_title": false,
   "title_cell": "Table of Contents",
   "title_sidebar": "Contents",
   "toc_cell": false,
   "toc_position": {},
   "toc_section_display": true,
   "toc_window_display": false
  },
  "varInspector": {
   "cols": {
    "lenName": 16,
    "lenType": 16,
    "lenVar": 40
   },
   "kernels_config": {
    "python": {
     "delete_cmd_postfix": "",
     "delete_cmd_prefix": "del ",
     "library": "var_list.py",
     "varRefreshCmd": "print(var_dic_list())"
    },
    "r": {
     "delete_cmd_postfix": ") ",
     "delete_cmd_prefix": "rm(",
     "library": "var_list.r",
     "varRefreshCmd": "cat(var_dic_list()) "
    }
   },
   "types_to_exclude": [
    "module",
    "function",
    "builtin_function_or_method",
    "instance",
    "_Feature"
   ],
   "window_display": false
  }
 },
 "nbformat": 4,
 "nbformat_minor": 5
}
