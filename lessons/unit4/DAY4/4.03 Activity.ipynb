{
 "cells": [
  {
   "cell_type": "markdown",
   "id": "0a46b8a6",
   "metadata": {},
   "source": [
    "# 4.03 Activity 1"
   ]
  },
  {
   "cell_type": "code",
   "execution_count": 1,
   "id": "d8c3f5e2",
   "metadata": {},
   "outputs": [],
   "source": [
    "text = \"\"\"\n",
    "Aeromexico 800 - 237 - 6639\n",
    "Air Canada 888- 247-2262\n",
    "Air Canada Rouge 888-247-2262\n",
    "Air Creebec 800-567-6567\n",
    "Air Inuit 800-361-2965\n",
    "Air North 800-661-0407\n",
    "Air Tindi 888-545-6794\"\"\""
   ]
  },
  {
   "cell_type": "code",
   "execution_count": 2,
   "id": "1675a68d",
   "metadata": {},
   "outputs": [],
   "source": [
    "pattern = '\\d+\\s*-\\s*\\d+\\s*-\\s*\\d+'"
   ]
  },
  {
   "cell_type": "code",
   "execution_count": 4,
   "id": "71a83b6d",
   "metadata": {},
   "outputs": [
    {
     "data": {
      "text/plain": [
       "['800 - 237 - 6639',\n",
       " '888- 247-2262',\n",
       " '888-247-2262',\n",
       " '800-567-6567',\n",
       " '800-361-2965',\n",
       " '800-661-0407',\n",
       " '888-545-6794']"
      ]
     },
     "execution_count": 4,
     "metadata": {},
     "output_type": "execute_result"
    }
   ],
   "source": [
    "import re\n",
    "re.findall(pattern, text)"
   ]
  },
  {
   "cell_type": "markdown",
   "id": "2385407f",
   "metadata": {},
   "source": [
    "# 4.03 Activity 4"
   ]
  },
  {
   "cell_type": "code",
   "execution_count": 1,
   "id": "a8ad5654",
   "metadata": {},
   "outputs": [],
   "source": [
    "# Is it better to use use VIF or a correlation matrix threshold for feature selection?"
   ]
  },
  {
   "cell_type": "code",
   "execution_count": 2,
   "id": "7efb0868",
   "metadata": {},
   "outputs": [],
   "source": [
    "# Not correct answerit depends on the situation. Preferibly use correlation matrix."
   ]
  },
  {
   "cell_type": "code",
   "execution_count": null,
   "id": "a055780c",
   "metadata": {},
   "outputs": [],
   "source": []
  }
 ],
 "metadata": {
  "kernelspec": {
   "display_name": "Python 3 (ipykernel)",
   "language": "python",
   "name": "python3"
  },
  "language_info": {
   "codemirror_mode": {
    "name": "ipython",
    "version": 3
   },
   "file_extension": ".py",
   "mimetype": "text/x-python",
   "name": "python",
   "nbconvert_exporter": "python",
   "pygments_lexer": "ipython3",
   "version": "3.9.7"
  },
  "toc": {
   "base_numbering": 1,
   "nav_menu": {},
   "number_sections": true,
   "sideBar": true,
   "skip_h1_title": false,
   "title_cell": "Table of Contents",
   "title_sidebar": "Contents",
   "toc_cell": false,
   "toc_position": {},
   "toc_section_display": true,
   "toc_window_display": false
  },
  "varInspector": {
   "cols": {
    "lenName": 16,
    "lenType": 16,
    "lenVar": 40
   },
   "kernels_config": {
    "python": {
     "delete_cmd_postfix": "",
     "delete_cmd_prefix": "del ",
     "library": "var_list.py",
     "varRefreshCmd": "print(var_dic_list())"
    },
    "r": {
     "delete_cmd_postfix": ") ",
     "delete_cmd_prefix": "rm(",
     "library": "var_list.r",
     "varRefreshCmd": "cat(var_dic_list()) "
    }
   },
   "types_to_exclude": [
    "module",
    "function",
    "builtin_function_or_method",
    "instance",
    "_Feature"
   ],
   "window_display": false
  }
 },
 "nbformat": 4,
 "nbformat_minor": 5
}
